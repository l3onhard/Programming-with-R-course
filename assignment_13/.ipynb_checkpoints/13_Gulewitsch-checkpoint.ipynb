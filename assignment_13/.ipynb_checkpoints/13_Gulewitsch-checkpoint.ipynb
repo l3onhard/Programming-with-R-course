{
 "cells": [
  {
   "cell_type": "code",
   "execution_count": 1,
   "metadata": {
    "collapsed": true
   },
   "outputs": [],
   "source": [
    "# Abgabe von Leonhard Gulewitsch"
   ]
  },
  {
   "cell_type": "code",
   "execution_count": 2,
   "metadata": {
    "collapsed": true
   },
   "outputs": [],
   "source": [
    "# Aufgabe 30 ----------------------------------------------------"
   ]
  },
  {
   "cell_type": "code",
   "execution_count": 3,
   "metadata": {
    "collapsed": true
   },
   "outputs": [],
   "source": [
    "## a)"
   ]
  },
  {
   "cell_type": "code",
   "execution_count": 4,
   "metadata": {
    "collapsed": true
   },
   "outputs": [],
   "source": [
    "myprod <- function(vector){\n",
    "    prod <- 1\n",
    "    for(element in vector){\n",
    "        prod <- prod * element\n",
    "    }\n",
    "    return(prod)\n",
    "}"
   ]
  },
  {
   "cell_type": "code",
   "execution_count": 5,
   "metadata": {
    "collapsed": false
   },
   "outputs": [],
   "source": [
    "## b)"
   ]
  },
  {
   "cell_type": "code",
   "execution_count": 6,
   "metadata": {
    "collapsed": false
   },
   "outputs": [],
   "source": [
    "myprod1 <- function(vector){\n",
    "    prod <- 1\n",
    "    index <- 1\n",
    "    while(vector[index] != 1 & index <= length(vector)){\n",
    "        prod <- prod * vector[index]\n",
    "        index <- index + 1\n",
    "    }\n",
    "    return(prod)\n",
    "}"
   ]
  },
  {
   "cell_type": "code",
   "execution_count": 7,
   "metadata": {
    "collapsed": true
   },
   "outputs": [],
   "source": [
    "## c)"
   ]
  },
  {
   "cell_type": "code",
   "execution_count": 8,
   "metadata": {
    "collapsed": false
   },
   "outputs": [],
   "source": [
    "myprod50 <- function(vector){\n",
    "    prod <- 1\n",
    "    index <- 1\n",
    "    repeat{\n",
    "        prod <- prod * vector[index]\n",
    "        index <- index + 1\n",
    "        if(index > length(vector) | prod > 50){\n",
    "            break()\n",
    "        }\n",
    "    }\n",
    "    return(prod)\n",
    "}"
   ]
  },
  {
   "cell_type": "code",
   "execution_count": 9,
   "metadata": {
    "collapsed": false
   },
   "outputs": [],
   "source": [
    "x <- c(5, 7, 2, 3, 4, 1, 8, 6, 9)\n",
    "y <- c(13, 12, 7)\n",
    "z <- c(2, 3, 1, 4)\n",
    "LIST.myvectors <- list(x, y, z)"
   ]
  },
  {
   "cell_type": "code",
   "execution_count": 10,
   "metadata": {
    "collapsed": false
   },
   "outputs": [
    {
     "data": {
      "text/html": [
       "<ol class=list-inline>\n",
       "\t<li>362880</li>\n",
       "\t<li>1092</li>\n",
       "\t<li>24</li>\n",
       "</ol>\n"
      ],
      "text/latex": [
       "\\begin{enumerate*}\n",
       "\\item 362880\n",
       "\\item 1092\n",
       "\\item 24\n",
       "\\end{enumerate*}\n"
      ],
      "text/markdown": [
       "1. 362880\n",
       "2. 1092\n",
       "3. 24\n",
       "\n",
       "\n"
      ],
      "text/plain": [
       "[1] 362880   1092     24"
      ]
     },
     "metadata": {},
     "output_type": "display_data"
    }
   ],
   "source": [
    "sapply(LIST.myvectors, myprod)"
   ]
  },
  {
   "cell_type": "code",
   "execution_count": 11,
   "metadata": {
    "collapsed": false
   },
   "outputs": [
    {
     "data": {
      "text/html": [
       "<ol class=list-inline>\n",
       "\t<li>840</li>\n",
       "\t<li>1092</li>\n",
       "\t<li>6</li>\n",
       "</ol>\n"
      ],
      "text/latex": [
       "\\begin{enumerate*}\n",
       "\\item 840\n",
       "\\item 1092\n",
       "\\item 6\n",
       "\\end{enumerate*}\n"
      ],
      "text/markdown": [
       "1. 840\n",
       "2. 1092\n",
       "3. 6\n",
       "\n",
       "\n"
      ],
      "text/plain": [
       "[1]  840 1092    6"
      ]
     },
     "metadata": {},
     "output_type": "display_data"
    }
   ],
   "source": [
    "sapply(LIST.myvectors, myprod1)"
   ]
  },
  {
   "cell_type": "code",
   "execution_count": 12,
   "metadata": {
    "collapsed": false
   },
   "outputs": [
    {
     "data": {
      "text/html": [
       "<ol class=list-inline>\n",
       "\t<li>70</li>\n",
       "\t<li>156</li>\n",
       "\t<li>24</li>\n",
       "</ol>\n"
      ],
      "text/latex": [
       "\\begin{enumerate*}\n",
       "\\item 70\n",
       "\\item 156\n",
       "\\item 24\n",
       "\\end{enumerate*}\n"
      ],
      "text/markdown": [
       "1. 70\n",
       "2. 156\n",
       "3. 24\n",
       "\n",
       "\n"
      ],
      "text/plain": [
       "[1]  70 156  24"
      ]
     },
     "metadata": {},
     "output_type": "display_data"
    }
   ],
   "source": [
    "sapply(LIST.myvectors, myprod50)"
   ]
  },
  {
   "cell_type": "code",
   "execution_count": 13,
   "metadata": {
    "collapsed": true
   },
   "outputs": [],
   "source": [
    "# Aufgabe 31 ----------------------------------------------------"
   ]
  },
  {
   "cell_type": "code",
   "execution_count": 28,
   "metadata": {
    "collapsed": false
   },
   "outputs": [],
   "source": [
    "library(\"MASS\")"
   ]
  },
  {
   "cell_type": "code",
   "execution_count": 15,
   "metadata": {
    "collapsed": false
   },
   "outputs": [],
   "source": [
    "## a)"
   ]
  },
  {
   "cell_type": "code",
   "execution_count": 16,
   "metadata": {
    "collapsed": true
   },
   "outputs": [],
   "source": [
    "LIST.make_split <- sapply(as.character(Cars93$Make), function(x) strsplit(x, split = \" \"))"
   ]
  },
  {
   "cell_type": "code",
   "execution_count": 17,
   "metadata": {
    "collapsed": false
   },
   "outputs": [],
   "source": [
    "Cars93$Hersteller <- sapply(LIST.make_split, function(x) c(x[[1]]))\n",
    "Cars93$Modell <- sapply(LIST.make_split, function(x) c(x[[2]]))"
   ]
  },
  {
   "cell_type": "code",
   "execution_count": 18,
   "metadata": {
    "collapsed": true
   },
   "outputs": [],
   "source": [
    "## b)"
   ]
  },
  {
   "cell_type": "code",
   "execution_count": 19,
   "metadata": {
    "collapsed": false
   },
   "outputs": [],
   "source": [
    "Cars93$Modell <- gsub(\"_\", \" \", Cars93$Modell)"
   ]
  },
  {
   "cell_type": "code",
   "execution_count": 20,
   "metadata": {
    "collapsed": true
   },
   "outputs": [],
   "source": [
    "# Aufgabe 32 ----------------------------------------------------"
   ]
  },
  {
   "cell_type": "code",
   "execution_count": 21,
   "metadata": {
    "collapsed": true
   },
   "outputs": [],
   "source": [
    "## a)"
   ]
  },
  {
   "cell_type": "code",
   "execution_count": 2,
   "metadata": {
    "collapsed": false
   },
   "outputs": [],
   "source": [
    "VEC.file_names <- list.files(\"herz200\")"
   ]
  },
  {
   "cell_type": "code",
   "execution_count": 3,
   "metadata": {
    "collapsed": false
   },
   "outputs": [],
   "source": [
    "LIST.DF.patient <- lapply(VEC.file_names, function(x) read.csv(paste(\"herz200/\", x, sep = \"\")))"
   ]
  },
  {
   "cell_type": "code",
   "execution_count": 24,
   "metadata": {
    "collapsed": false
   },
   "outputs": [],
   "source": [
    "F.DF.patients <- function(LIST.DF){\n",
    "    DF.patients <- LIST.DF[[1]]\n",
    "    for(DF.patient in LIST.DF[-1]){\n",
    "        DF.patients <- rbind(DF.patients, DF.patient)\n",
    "    }\n",
    "    return(DF.patients)\n",
    "}\n",
    "\n",
    "# Alternative Lösung: DF.patients <- do.call(\"rbind\", LIST.DF.patient)"
   ]
  },
  {
   "cell_type": "code",
   "execution_count": 25,
   "metadata": {
    "collapsed": false
   },
   "outputs": [],
   "source": [
    "DF.patients <- F.DF.patients(LIST.DF.patient)"
   ]
  },
  {
   "cell_type": "code",
   "execution_count": 26,
   "metadata": {
    "collapsed": false
   },
   "outputs": [],
   "source": [
    "DF.patients$Untersuchungsdatum <- as.Date(DF.patients$Untersuchungsdatum)"
   ]
  },
  {
   "cell_type": "code",
   "execution_count": 27,
   "metadata": {
    "collapsed": false
   },
   "outputs": [],
   "source": [
    "## b)"
   ]
  },
  {
   "cell_type": "code",
   "execution_count": 69,
   "metadata": {
    "collapsed": false
   },
   "outputs": [],
   "source": [
    "pattern <- \"^([[:digit:]]+)-(.*)\\\\.txt$\"\n",
    "DF.patients$Patientennummer <- as.numeric(gsub(pattern, \"\\\\1\", VEC.file_names))\n",
    "VEC.birthdays <- gsub(pattern, \"\\\\2\", VEC.file_names)\n",
    "VEC.birthdays[VEC.birthdays %in% \"NA\"] <- NA\n",
    "DF.patients$Geburtsdatum <- as.Date(VEC.birthdays)"
   ]
  },
  {
   "cell_type": "code",
   "execution_count": 70,
   "metadata": {
    "collapsed": false
   },
   "outputs": [
    {
     "name": "stdout",
     "output_type": "stream",
     "text": [
      "'data.frame':\t200 obs. of  12 variables:\n",
      " $ Diagnose          : Factor w/ 3 levels \"chf\",\"ACS\",\"av\": 1 2 2 2 2 2 3 2 2 2 ...\n",
      " $ Geschlecht        : Factor w/ 2 levels \"w\",\"m\": 1 2 2 1 1 2 2 2 2 2 ...\n",
      " $ Untersuchungsdatum: Date, format: NA \"2004-10-30\" ...\n",
      " $ Groesse           : int  158 180 175 170 168 158 184 175 170 180 ...\n",
      " $ Gewicht           : int  67 90 75 70 85 65 86 78 75 96 ...\n",
      " $ HF                : int  81 72 92 73 74 70 NA 79 68 72 ...\n",
      " $ RR_sys            : int  104 140 190 60 170 160 NA 130 180 160 ...\n",
      " $ Rhythmus          : Factor w/ 3 levels \"VHF\",\"SR\",\"SM\": 1 2 2 2 2 2 2 2 2 2 ...\n",
      " $ Alter             : int  NA 75 50 78 72 62 54 58 55 69 ...\n",
      " $ BMI               : num  26.8 27.8 24.5 24.2 30.1 ...\n",
      " $ Patientennummer   : num  1 1018 1023 1024 1034 ...\n",
      " $ Geburtsdatum      : Date, format: NA \"1929-03-21\" ...\n"
     ]
    }
   ],
   "source": [
    "str(DF.patients)"
   ]
  }
 ],
 "metadata": {
  "kernelspec": {
   "display_name": "R",
   "language": "R",
   "name": "ir"
  },
  "language_info": {
   "codemirror_mode": "r",
   "file_extension": ".r",
   "mimetype": "text/x-r-source",
   "name": "R",
   "pygments_lexer": "r",
   "version": "3.3.1"
  }
 },
 "nbformat": 4,
 "nbformat_minor": 2
}
