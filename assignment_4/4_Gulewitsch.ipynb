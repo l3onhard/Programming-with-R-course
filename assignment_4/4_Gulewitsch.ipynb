{
 "cells": [
  {
   "cell_type": "code",
   "execution_count": 1,
   "metadata": {
    "collapsed": false
   },
   "outputs": [],
   "source": [
    "# Abgabe von Leonhard Gulewitsch\n",
    "# Aufgabe 9\n",
    "## a)\n",
    "state.list <- list(Bundesland = c(\"Sachsen\", \"NRW\", \"Bayern\"), \n",
    "                       Hauptstadt = c(\"Duesseldorf\", \"Dresden\"), \n",
    "                       Platz = c(\"sieben\", \"zwoelf\", \"drei\"),\n",
    "                       Flaeche = c(34110, 18420, 70550))"
   ]
  },
  {
   "cell_type": "code",
   "execution_count": 2,
   "metadata": {
    "collapsed": false
   },
   "outputs": [
    {
     "name": "stdout",
     "output_type": "stream",
     "text": [
      "List of 4\n",
      " $ Bundesland: chr [1:3] \"Sachsen\" \"NRW\" \"Bayern\"\n",
      " $ Hauptstadt: chr [1:2] \"Duesseldorf\" \"Dresden\"\n",
      " $ Platz     : chr [1:3] \"sieben\" \"zwoelf\" \"drei\"\n",
      " $ Flaeche   : num [1:3] 34110 18420 70550\n"
     ]
    }
   ],
   "source": [
    "## b)\n",
    "str(state.list)"
   ]
  },
  {
   "cell_type": "code",
   "execution_count": 3,
   "metadata": {
    "collapsed": false
   },
   "outputs": [
    {
     "data": {
      "text/html": [
       "<dl>\n",
       "\t<dt>$Bundesland</dt>\n",
       "\t\t<dd><ol class=list-inline>\n",
       "\t<li>'Sachsen'</li>\n",
       "\t<li>'NRW'</li>\n",
       "\t<li>'Bayern'</li>\n",
       "</ol>\n",
       "</dd>\n",
       "\t<dt>$Flaeche</dt>\n",
       "\t\t<dd><ol class=list-inline>\n",
       "\t<li>34110</li>\n",
       "\t<li>18420</li>\n",
       "\t<li>70550</li>\n",
       "</ol>\n",
       "</dd>\n",
       "</dl>\n"
      ],
      "text/latex": [
       "\\begin{description}\n",
       "\\item[\\$Bundesland] \\begin{enumerate*}\n",
       "\\item 'Sachsen'\n",
       "\\item 'NRW'\n",
       "\\item 'Bayern'\n",
       "\\end{enumerate*}\n",
       "\n",
       "\\item[\\$Flaeche] \\begin{enumerate*}\n",
       "\\item 34110\n",
       "\\item 18420\n",
       "\\item 70550\n",
       "\\end{enumerate*}\n",
       "\n",
       "\\end{description}\n"
      ],
      "text/markdown": [
       "$Bundesland\n",
       ":   1. 'Sachsen'\n",
       "2. 'NRW'\n",
       "3. 'Bayern'\n",
       "\n",
       "\n",
       "\n",
       "$Flaeche\n",
       ":   1. 34110\n",
       "2. 18420\n",
       "3. 70550\n",
       "\n",
       "\n",
       "\n",
       "\n",
       "\n"
      ],
      "text/plain": [
       "$Bundesland\n",
       "[1] \"Sachsen\" \"NRW\"     \"Bayern\" \n",
       "\n",
       "$Flaeche\n",
       "[1] 34110 18420 70550\n"
      ]
     },
     "metadata": {},
     "output_type": "display_data"
    }
   ],
   "source": [
    "## c)\n",
    "state.list[c(\"Bundesland\", \"Flaeche\")]"
   ]
  },
  {
   "cell_type": "code",
   "execution_count": 4,
   "metadata": {
    "collapsed": false
   },
   "outputs": [
    {
     "data": {
      "text/html": [
       "<ol class=list-inline>\n",
       "\t<li>'NRW'</li>\n",
       "\t<li>'Sachsen'</li>\n",
       "\t<li>'Bayern'</li>\n",
       "</ol>\n"
      ],
      "text/latex": [
       "\\begin{enumerate*}\n",
       "\\item 'NRW'\n",
       "\\item 'Sachsen'\n",
       "\\item 'Bayern'\n",
       "\\end{enumerate*}\n"
      ],
      "text/markdown": [
       "1. 'NRW'\n",
       "2. 'Sachsen'\n",
       "3. 'Bayern'\n",
       "\n",
       "\n"
      ],
      "text/plain": [
       "[1] \"NRW\"     \"Sachsen\" \"Bayern\" "
      ]
     },
     "metadata": {},
     "output_type": "display_data"
    }
   ],
   "source": [
    "## d)\n",
    "swaped_states <- function(stateA, stateB, \n",
    "                        state.vector = state.list$Bundesland){\n",
    "    state_indices <- match(c(stateA, stateB), state.vector)\n",
    "    state.vector[rev(state_indices)] <- state.vector[state_indices]\n",
    "    return(state.vector)\n",
    "}\n",
    "    \n",
    "state.list$Bundesland <- swaped_states(\"NRW\", \"Sachsen\")\n",
    "state.list$Bundesland"
   ]
  },
  {
   "cell_type": "code",
   "execution_count": 5,
   "metadata": {
    "collapsed": false
   },
   "outputs": [
    {
     "data": {
      "text/html": [
       "<ol class=list-inline>\n",
       "\t<li>'Duesseldorf'</li>\n",
       "\t<li>'Dresden'</li>\n",
       "\t<li>'Muenchen'</li>\n",
       "</ol>\n"
      ],
      "text/latex": [
       "\\begin{enumerate*}\n",
       "\\item 'Duesseldorf'\n",
       "\\item 'Dresden'\n",
       "\\item 'Muenchen'\n",
       "\\end{enumerate*}\n"
      ],
      "text/markdown": [
       "1. 'Duesseldorf'\n",
       "2. 'Dresden'\n",
       "3. 'Muenchen'\n",
       "\n",
       "\n"
      ],
      "text/plain": [
       "[1] \"Duesseldorf\" \"Dresden\"     \"Muenchen\"   "
      ]
     },
     "metadata": {},
     "output_type": "display_data"
    }
   ],
   "source": [
    "## e)\n",
    "state.list$Hauptstadt[state.list$Bundesland == \"Bayern\"] <- \"Muenchen\"\n",
    "state.list$Hauptstadt"
   ]
  },
  {
   "cell_type": "code",
   "execution_count": 6,
   "metadata": {
    "collapsed": false
   },
   "outputs": [
    {
     "data": {
      "text/html": [
       "<dl>\n",
       "\t<dt>$Bundesland</dt>\n",
       "\t\t<dd><ol class=list-inline>\n",
       "\t<li>'NRW'</li>\n",
       "\t<li>'Sachsen'</li>\n",
       "\t<li>'Bayern'</li>\n",
       "</ol>\n",
       "</dd>\n",
       "\t<dt>$Hauptstadt</dt>\n",
       "\t\t<dd><ol class=list-inline>\n",
       "\t<li>'Duesseldorf'</li>\n",
       "\t<li>'Dresden'</li>\n",
       "\t<li>'Muenchen'</li>\n",
       "</ol>\n",
       "</dd>\n",
       "\t<dt>$Platz</dt>\n",
       "\t\t<dd><ol class=list-inline>\n",
       "\t<li>'sieben'</li>\n",
       "\t<li>'zwoelf'</li>\n",
       "\t<li>'drei'</li>\n",
       "</ol>\n",
       "</dd>\n",
       "\t<dt>$Flaeche</dt>\n",
       "\t\t<dd><ol class=list-inline>\n",
       "\t<li>34110</li>\n",
       "\t<li>18420</li>\n",
       "\t<li>70550</li>\n",
       "</ol>\n",
       "</dd>\n",
       "\t<dt>$Einwohner</dt>\n",
       "\t\t<dd><ol class=list-inline>\n",
       "\t<li>17.6</li>\n",
       "\t<li>4</li>\n",
       "\t<li>12</li>\n",
       "\t<li>6</li>\n",
       "</ol>\n",
       "</dd>\n",
       "</dl>\n"
      ],
      "text/latex": [
       "\\begin{description}\n",
       "\\item[\\$Bundesland] \\begin{enumerate*}\n",
       "\\item 'NRW'\n",
       "\\item 'Sachsen'\n",
       "\\item 'Bayern'\n",
       "\\end{enumerate*}\n",
       "\n",
       "\\item[\\$Hauptstadt] \\begin{enumerate*}\n",
       "\\item 'Duesseldorf'\n",
       "\\item 'Dresden'\n",
       "\\item 'Muenchen'\n",
       "\\end{enumerate*}\n",
       "\n",
       "\\item[\\$Platz] \\begin{enumerate*}\n",
       "\\item 'sieben'\n",
       "\\item 'zwoelf'\n",
       "\\item 'drei'\n",
       "\\end{enumerate*}\n",
       "\n",
       "\\item[\\$Flaeche] \\begin{enumerate*}\n",
       "\\item 34110\n",
       "\\item 18420\n",
       "\\item 70550\n",
       "\\end{enumerate*}\n",
       "\n",
       "\\item[\\$Einwohner] \\begin{enumerate*}\n",
       "\\item 17.6\n",
       "\\item 4\n",
       "\\item 12\n",
       "\\item 6\n",
       "\\end{enumerate*}\n",
       "\n",
       "\\end{description}\n"
      ],
      "text/markdown": [
       "$Bundesland\n",
       ":   1. 'NRW'\n",
       "2. 'Sachsen'\n",
       "3. 'Bayern'\n",
       "\n",
       "\n",
       "\n",
       "$Hauptstadt\n",
       ":   1. 'Duesseldorf'\n",
       "2. 'Dresden'\n",
       "3. 'Muenchen'\n",
       "\n",
       "\n",
       "\n",
       "$Platz\n",
       ":   1. 'sieben'\n",
       "2. 'zwoelf'\n",
       "3. 'drei'\n",
       "\n",
       "\n",
       "\n",
       "$Flaeche\n",
       ":   1. 34110\n",
       "2. 18420\n",
       "3. 70550\n",
       "\n",
       "\n",
       "\n",
       "$Einwohner\n",
       ":   1. 17.6\n",
       "2. 4\n",
       "3. 12\n",
       "4. 6\n",
       "\n",
       "\n",
       "\n",
       "\n",
       "\n"
      ],
      "text/plain": [
       "$Bundesland\n",
       "[1] \"NRW\"     \"Sachsen\" \"Bayern\" \n",
       "\n",
       "$Hauptstadt\n",
       "[1] \"Duesseldorf\" \"Dresden\"     \"Muenchen\"   \n",
       "\n",
       "$Platz\n",
       "[1] \"sieben\" \"zwoelf\" \"drei\"  \n",
       "\n",
       "$Flaeche\n",
       "[1] 34110 18420 70550\n",
       "\n",
       "$Einwohner\n",
       "[1] 17.6  4.0 12.0  6.0\n"
      ]
     },
     "metadata": {},
     "output_type": "display_data"
    }
   ],
   "source": [
    "## f)\n",
    "state.list <- append(state.list, list(Einwohner = c(17.6, 4.0, 12,6)))\n",
    "state.list"
   ]
  },
  {
   "cell_type": "code",
   "execution_count": 7,
   "metadata": {
    "collapsed": false
   },
   "outputs": [],
   "source": [
    "## g)\n",
    "sprintf(\"Hier sollte lieber ein Dataframe verwendet werden. Dataframes\n",
    "sind immer dann sinnvoll, wenn man mit Merkmalsträger arbeitet, die\n",
    "mehrere Merkmale aufweisen.\")"
   ]
  },
  {
   "cell_type": "code",
   "execution_count": 8,
   "metadata": {
    "collapsed": false
   },
   "outputs": [
    {
     "data": {
      "text/html": [
       "70550"
      ],
      "text/latex": [
       "70550"
      ],
      "text/markdown": [
       "70550"
      ],
      "text/plain": [
       "[1] 70550"
      ]
     },
     "metadata": {},
     "output_type": "display_data"
    },
    {
     "data": {
      "text/html": [
       "70550"
      ],
      "text/latex": [
       "70550"
      ],
      "text/markdown": [
       "70550"
      ],
      "text/plain": [
       "[1] 70550"
      ]
     },
     "metadata": {},
     "output_type": "display_data"
    },
    {
     "data": {
      "text/html": [
       "70550"
      ],
      "text/latex": [
       "70550"
      ],
      "text/markdown": [
       "70550"
      ],
      "text/plain": [
       "[1] 70550"
      ]
     },
     "metadata": {},
     "output_type": "display_data"
    }
   ],
   "source": [
    "## h)\n",
    "state.list$Flaeche[state.list$Bundesland == \"Bayern\"]\n",
    "state.list[[\"Flaeche\"]][state.list[[\"Bundesland\"]] == \"Bayern\"]\n",
    "state.list[[which(names(state.list) == \"Flaeche\")]][\n",
    "    which(state.list$Bundesland == \"Bayern\")]"
   ]
  },
  {
   "cell_type": "code",
   "execution_count": 9,
   "metadata": {
    "collapsed": true
   },
   "outputs": [],
   "source": [
    "# Aufgabe 10\n",
    "load(\"/Users/Leo/offline_files/local_files/PmitR/assignment_4/PinR1.RData\")\n",
    "# load(\"//server01/lehre/ProgrammierenR/Daten/PinR1.RData\")\n",
    "\n",
    "## a)\n",
    "progR1 <- data.frame(\"student_ID\" = person, \n",
    "                    \"registration_time\" = anmeldezeit, \n",
    "                    \"major\" = studiengang)"
   ]
  },
  {
   "cell_type": "code",
   "execution_count": 10,
   "metadata": {
    "collapsed": false
   },
   "outputs": [
    {
     "data": {
      "text/plain": [
       "   student_ID     registration_time          major   \n",
       " Min.   :  1.00   Min.   :  31.0    Datenanalyse:42  \n",
       " 1st Qu.: 34.25   1st Qu.: 755.2    Sonstige    : 2  \n",
       " Median : 67.50   Median :1227.5    Mathematik  : 8  \n",
       " Mean   : 67.50   Mean   :2110.0    Statistik   :82  \n",
       " 3rd Qu.:100.75   3rd Qu.:3861.2                     \n",
       " Max.   :134.00   Max.   :6779.0                     "
      ]
     },
     "metadata": {},
     "output_type": "display_data"
    },
    {
     "data": {
      "text/html": [
       "\"R behandelt die Beobachtungen in den Spalten 'student_ID' und \n",
       "'registration_time' als quantitativen Datentyp. R berechnet für \n",
       "diese Spalten jeweils das Minimum, das 1. Quartil, den Median, \n",
       "das arithmetische Mittel, das 3. Quartil, und das Maximumdiese. \n",
       "Die Beobachtungen in der Spalte 'major' behandelt R dagegen als \n",
       "einen nominale Datentyp. Hier gibt R die absoluten Häufigkeiten \n",
       "der Beobachtungen wieder.\""
      ],
      "text/latex": [
       "\"R behandelt die Beobachtungen in den Spalten 'student\\_ID' und \n",
       "'registration\\_time' als quantitativen Datentyp. R berechnet für \n",
       "diese Spalten jeweils das Minimum, das 1. Quartil, den Median, \n",
       "das arithmetische Mittel, das 3. Quartil, und das Maximumdiese. \n",
       "Die Beobachtungen in der Spalte 'major' behandelt R dagegen als \n",
       "einen nominale Datentyp. Hier gibt R die absoluten Häufigkeiten \n",
       "der Beobachtungen wieder.\""
      ],
      "text/markdown": [
       "\"R behandelt die Beobachtungen in den Spalten 'student_ID' und \n",
       "'registration_time' als quantitativen Datentyp. R berechnet für \n",
       "diese Spalten jeweils das Minimum, das 1. Quartil, den Median, \n",
       "das arithmetische Mittel, das 3. Quartil, und das Maximumdiese. \n",
       "Die Beobachtungen in der Spalte 'major' behandelt R dagegen als \n",
       "einen nominale Datentyp. Hier gibt R die absoluten Häufigkeiten \n",
       "der Beobachtungen wieder.\""
      ],
      "text/plain": [
       "[1] \"R behandelt die Beobachtungen in den Spalten 'student_ID' und \\n'registration_time' als quantitativen Datentyp. R berechnet für \\ndiese Spalten jeweils das Minimum, das 1. Quartil, den Median, \\ndas arithmetische Mittel, das 3. Quartil, und das Maximumdiese. \\nDie Beobachtungen in der Spalte 'major' behandelt R dagegen als \\neinen nominale Datentyp. Hier gibt R die absoluten Häufigkeiten \\nder Beobachtungen wieder.\""
      ]
     },
     "metadata": {},
     "output_type": "display_data"
    }
   ],
   "source": [
    "## b)\n",
    "summary(progR1)\n",
    "sprintf(\"R behandelt die Beobachtungen in den Spalten 'student_ID' und \n",
    "'registration_time' als quantitativen Datentyp. R berechnet für \n",
    "diese Spalten jeweils das Minimum, das 1. Quartil, den Median, \n",
    "das arithmetische Mittel, das 3. Quartil, und das Maximumdiese. \n",
    "Die Beobachtungen in der Spalte 'major' behandelt R dagegen als \n",
    "einen nominale Datentyp. Hier gibt R die absoluten Häufigkeiten \n",
    "der Beobachtungen wieder.\")"
   ]
  },
  {
   "cell_type": "code",
   "execution_count": 11,
   "metadata": {
    "collapsed": false
   },
   "outputs": [
    {
     "data": {
      "image/png": "[encoded data removed]",
      "text/plain": [
       "Plot with title “Empirische Verteilungsfunktion”"
      ]
     },
     "metadata": {},
     "output_type": "display_data"
    }
   ],
   "source": [
    "## c)\n",
    "plot(ecdf(progR1$registration_time), main = \"Empirische Verteilungsfunktion\")"
   ]
  },
  {
   "cell_type": "code",
   "execution_count": 12,
   "metadata": {
    "collapsed": false
   },
   "outputs": [],
   "source": [
    "# Aufgabe 11\n",
    "## a)\n",
    "load(\"/Users/Leo/offline_files/local_files/PmitR/assignment_4/PinR2.RData\")\n",
    "# load(\"//server01/lehre/ProgrammierenR/Daten/PinR2.RData\")\n",
    "\n",
    "progR <- merge(progR1, progR2, by.x = \"student_ID\", \n",
    "                  by.y = \"Personennummer\")"
   ]
  },
  {
   "cell_type": "code",
   "execution_count": 13,
   "metadata": {
    "collapsed": true
   },
   "outputs": [],
   "source": [
    "## b)\n",
    "progR_data.1 <- subset(progR, major == \"Datenanalyse\")\n",
    "progR_data.2 <- progR[progR$major == \"Datenanalyse\", ]\n",
    "progR_data.3 <- split(progR, progR$major)$Datenanalyse\n",
    "progR_data.4 <- subset(progR, major %in% \"Datenanalyse\")"
   ]
  },
  {
   "cell_type": "code",
   "execution_count": 29,
   "metadata": {
    "collapsed": false
   },
   "outputs": [
    {
     "name": "stdout",
     "output_type": "stream",
     "text": [
      " int [1:134, 1:2] 1 2 3 4 5 6 7 8 9 10 ...\n",
      " - attr(*, \"dimnames\")=List of 2\n",
      "  ..$ : NULL\n",
      "  ..$ : chr [1:2] \"person\" \"studiengang\"\n"
     ]
    },
    {
     "data": {
      "text/html": [
       "<ol class=list-inline>\n",
       "\t<li>'Datenanalyse'</li>\n",
       "\t<li>'Sonstige'</li>\n",
       "\t<li>'Mathematik'</li>\n",
       "\t<li>'Statistik'</li>\n",
       "</ol>\n"
      ],
      "text/latex": [
       "\\begin{enumerate*}\n",
       "\\item 'Datenanalyse'\n",
       "\\item 'Sonstige'\n",
       "\\item 'Mathematik'\n",
       "\\item 'Statistik'\n",
       "\\end{enumerate*}\n"
      ],
      "text/markdown": [
       "1. 'Datenanalyse'\n",
       "2. 'Sonstige'\n",
       "3. 'Mathematik'\n",
       "4. 'Statistik'\n",
       "\n",
       "\n"
      ],
      "text/plain": [
       "[1] \"Datenanalyse\" \"Sonstige\"     \"Mathematik\"   \"Statistik\"   "
      ]
     },
     "metadata": {},
     "output_type": "display_data"
    },
    {
     "data": {
      "text/html": [
       "'Da in R alle Elemente einer Matrix den einheitlichen Datentyp\n",
       "besitzen müssen, ordnet R den vier Studienfächern natürliche Zahlen zu:\n",
       "Datenanalyse = 1; Sonstige = 2; Mathematik = 3; und Statistik = 4'"
      ],
      "text/latex": [
       "'Da in R alle Elemente einer Matrix den einheitlichen Datentyp\n",
       "besitzen müssen, ordnet R den vier Studienfächern natürliche Zahlen zu:\n",
       "Datenanalyse = 1; Sonstige = 2; Mathematik = 3; und Statistik = 4'"
      ],
      "text/markdown": [
       "'Da in R alle Elemente einer Matrix den einheitlichen Datentyp\n",
       "besitzen müssen, ordnet R den vier Studienfächern natürliche Zahlen zu:\n",
       "Datenanalyse = 1; Sonstige = 2; Mathematik = 3; und Statistik = 4'"
      ],
      "text/plain": [
       "[1] \"Da in R alle Elemente einer Matrix den einheitlichen Datentyp\\nbesitzen müssen, ordnet R den vier Studienfächern natürliche Zahlen zu:\\nDatenanalyse = 1; Sonstige = 2; Mathematik = 3; und Statistik = 4\""
      ]
     },
     "metadata": {},
     "output_type": "display_data"
    }
   ],
   "source": [
    "## c)\n",
    "X <- cbind(person, studiengang)\n",
    "str(X)\n",
    "levels(studiengang)\n",
    "sprintf(\"Da in R alle Elemente einer Matrix den einheitlichen Datentyp\n",
    "besitzen müssen, ordnet R den vier Studienfächern natürliche Zahlen zu:\n",
    "Datenanalyse = 1; Sonstige = 2; Mathematik = 3; und Statistik = 4\")"
   ]
  },
  {
   "cell_type": "code",
   "execution_count": null,
   "metadata": {
    "collapsed": true
   },
   "outputs": [],
   "source": []
  }
 ],
 "metadata": {
  "anaconda-cloud": {},
  "kernelspec": {
   "display_name": "R",
   "language": "R",
   "name": "ir"
  },
  "language_info": {
   "codemirror_mode": "r",
   "file_extension": ".r",
   "mimetype": "text/x-r-source",
   "name": "R",
   "pygments_lexer": "r",
   "version": "3.3.1"
  }
 },
 "nbformat": 4,
 "nbformat_minor": 1
}
