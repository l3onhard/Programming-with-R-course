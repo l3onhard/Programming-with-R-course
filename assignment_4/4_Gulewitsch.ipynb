{
 "cells": [
  {
   "cell_type": "code",
   "execution_count": 6,
   "metadata": {
    "collapsed": false
   },
   "outputs": [],
   "source": [
    "# Abgabe von Leonhard Gulewitsch\n",
    "# Aufgabe 9\n",
    "## a)\n",
    "state.list <- list(Bundesland = c(\"Sachsen\", \"NRW\", \"Bayern\"), \n",
    "                       Hauptstadt = c(\"Duesseldorf\", \"Dresden\"), \n",
    "                       Platz = c(\"sieben\", \"zwoelf\", \"drei\"),\n",
    "                       Flaeche = c(34110, 18420, 70550))"
   ]
  },
  {
   "cell_type": "code",
   "execution_count": 7,
   "metadata": {
    "collapsed": false
   },
   "outputs": [
    {
     "name": "stdout",
     "output_type": "stream",
     "text": [
      "List of 4\n",
      " $ Bundesland: chr [1:3] \"Sachsen\" \"NRW\" \"Bayern\"\n",
      " $ Hauptstadt: chr [1:2] \"Duesseldorf\" \"Dresden\"\n",
      " $ Platz     : chr [1:3] \"sieben\" \"zwoelf\" \"drei\"\n",
      " $ Flaeche   : num [1:3] 34110 18420 70550\n"
     ]
    }
   ],
   "source": [
    "## b)\n",
    "str(state.list)"
   ]
  },
  {
   "cell_type": "code",
   "execution_count": 8,
   "metadata": {
    "collapsed": false
   },
   "outputs": [
    {
     "data": {
      "text/html": [
       "<dl>\n",
       "\t<dt>$Bundesland</dt>\n",
       "\t\t<dd><ol class=list-inline>\n",
       "\t<li>'Sachsen'</li>\n",
       "\t<li>'NRW'</li>\n",
       "\t<li>'Bayern'</li>\n",
       "</ol>\n",
       "</dd>\n",
       "\t<dt>$Flaeche</dt>\n",
       "\t\t<dd><ol class=list-inline>\n",
       "\t<li>34110</li>\n",
       "\t<li>18420</li>\n",
       "\t<li>70550</li>\n",
       "</ol>\n",
       "</dd>\n",
       "</dl>\n"
      ],
      "text/latex": [
       "\\begin{description}\n",
       "\\item[\\$Bundesland] \\begin{enumerate*}\n",
       "\\item 'Sachsen'\n",
       "\\item 'NRW'\n",
       "\\item 'Bayern'\n",
       "\\end{enumerate*}\n",
       "\n",
       "\\item[\\$Flaeche] \\begin{enumerate*}\n",
       "\\item 34110\n",
       "\\item 18420\n",
       "\\item 70550\n",
       "\\end{enumerate*}\n",
       "\n",
       "\\end{description}\n"
      ],
      "text/markdown": [
       "$Bundesland\n",
       ":   1. 'Sachsen'\n",
       "2. 'NRW'\n",
       "3. 'Bayern'\n",
       "\n",
       "\n",
       "\n",
       "$Flaeche\n",
       ":   1. 34110\n",
       "2. 18420\n",
       "3. 70550\n",
       "\n",
       "\n",
       "\n",
       "\n",
       "\n"
      ],
      "text/plain": [
       "$Bundesland\n",
       "[1] \"Sachsen\" \"NRW\"     \"Bayern\" \n",
       "\n",
       "$Flaeche\n",
       "[1] 34110 18420 70550\n"
      ]
     },
     "metadata": {},
     "output_type": "display_data"
    }
   ],
   "source": [
    "## c)\n",
    "state.list[c(\"Bundesland\", \"Flaeche\")]"
   ]
  },
  {
   "cell_type": "code",
   "execution_count": 9,
   "metadata": {
    "collapsed": false
   },
   "outputs": [
    {
     "data": {
      "text/html": [
       "<ol class=list-inline>\n",
       "\t<li>'NRW'</li>\n",
       "\t<li>'Sachsen'</li>\n",
       "\t<li>'Bayern'</li>\n",
       "</ol>\n"
      ],
      "text/latex": [
       "\\begin{enumerate*}\n",
       "\\item 'NRW'\n",
       "\\item 'Sachsen'\n",
       "\\item 'Bayern'\n",
       "\\end{enumerate*}\n"
      ],
      "text/markdown": [
       "1. 'NRW'\n",
       "2. 'Sachsen'\n",
       "3. 'Bayern'\n",
       "\n",
       "\n"
      ],
      "text/plain": [
       "[1] \"NRW\"     \"Sachsen\" \"Bayern\" "
      ]
     },
     "metadata": {},
     "output_type": "display_data"
    }
   ],
   "source": [
    "## d)\n",
    "swaped_states <- function(stateA, stateB, \n",
    "                        state.vector = state.list$Bundesland){\n",
    "    state_indices <- which(c(state.vector == stateA \n",
    "                             | state.vector == stateB))\n",
    "    state.vector[rev(state_indices)] <- state.vector[state_indices]\n",
    "    return(state.vector)\n",
    "}\n",
    "    \n",
    "state.list$Bundesland <- swaped_states(\"NRW\", \"Sachsen\")\n",
    "state.list$Bundesland"
   ]
  },
  {
   "cell_type": "code",
   "execution_count": 11,
   "metadata": {
    "collapsed": false
   },
   "outputs": [
    {
     "data": {
      "text/html": [
       "<ol class=list-inline>\n",
       "\t<li>'Duesseldorf'</li>\n",
       "\t<li>'Dresden'</li>\n",
       "\t<li>'Muenchen'</li>\n",
       "</ol>\n"
      ],
      "text/latex": [
       "\\begin{enumerate*}\n",
       "\\item 'Duesseldorf'\n",
       "\\item 'Dresden'\n",
       "\\item 'Muenchen'\n",
       "\\end{enumerate*}\n"
      ],
      "text/markdown": [
       "1. 'Duesseldorf'\n",
       "2. 'Dresden'\n",
       "3. 'Muenchen'\n",
       "\n",
       "\n"
      ],
      "text/plain": [
       "[1] \"Duesseldorf\" \"Dresden\"     \"Muenchen\"   "
      ]
     },
     "metadata": {},
     "output_type": "display_data"
    }
   ],
   "source": [
    "## e)\n",
    "state.list$Hauptstadt[state.list$Bundesland == \"Bayern\"] <- \"Muenchen\"\n",
    "state.list$Hauptstadt"
   ]
  },
  {
   "cell_type": "code",
   "execution_count": 12,
   "metadata": {
    "collapsed": false
   },
   "outputs": [
    {
     "data": {
      "text/html": [
       "<dl>\n",
       "\t<dt>$Bundesland</dt>\n",
       "\t\t<dd><ol class=list-inline>\n",
       "\t<li>'NRW'</li>\n",
       "\t<li>'Sachsen'</li>\n",
       "\t<li>'Bayern'</li>\n",
       "</ol>\n",
       "</dd>\n",
       "\t<dt>$Hauptstadt</dt>\n",
       "\t\t<dd><ol class=list-inline>\n",
       "\t<li>'Duesseldorf'</li>\n",
       "\t<li>'Dresden'</li>\n",
       "\t<li>'Muenchen'</li>\n",
       "</ol>\n",
       "</dd>\n",
       "\t<dt>$Platz</dt>\n",
       "\t\t<dd><ol class=list-inline>\n",
       "\t<li>'sieben'</li>\n",
       "\t<li>'zwoelf'</li>\n",
       "\t<li>'drei'</li>\n",
       "</ol>\n",
       "</dd>\n",
       "\t<dt>$Flaeche</dt>\n",
       "\t\t<dd><ol class=list-inline>\n",
       "\t<li>34110</li>\n",
       "\t<li>18420</li>\n",
       "\t<li>70550</li>\n",
       "</ol>\n",
       "</dd>\n",
       "\t<dt>$Einwohner</dt>\n",
       "\t\t<dd><ol class=list-inline>\n",
       "\t<li>17.6</li>\n",
       "\t<li>4</li>\n",
       "\t<li>12</li>\n",
       "\t<li>6</li>\n",
       "</ol>\n",
       "</dd>\n",
       "</dl>\n"
      ],
      "text/latex": [
       "\\begin{description}\n",
       "\\item[\\$Bundesland] \\begin{enumerate*}\n",
       "\\item 'NRW'\n",
       "\\item 'Sachsen'\n",
       "\\item 'Bayern'\n",
       "\\end{enumerate*}\n",
       "\n",
       "\\item[\\$Hauptstadt] \\begin{enumerate*}\n",
       "\\item 'Duesseldorf'\n",
       "\\item 'Dresden'\n",
       "\\item 'Muenchen'\n",
       "\\end{enumerate*}\n",
       "\n",
       "\\item[\\$Platz] \\begin{enumerate*}\n",
       "\\item 'sieben'\n",
       "\\item 'zwoelf'\n",
       "\\item 'drei'\n",
       "\\end{enumerate*}\n",
       "\n",
       "\\item[\\$Flaeche] \\begin{enumerate*}\n",
       "\\item 34110\n",
       "\\item 18420\n",
       "\\item 70550\n",
       "\\end{enumerate*}\n",
       "\n",
       "\\item[\\$Einwohner] \\begin{enumerate*}\n",
       "\\item 17.6\n",
       "\\item 4\n",
       "\\item 12\n",
       "\\item 6\n",
       "\\end{enumerate*}\n",
       "\n",
       "\\end{description}\n"
      ],
      "text/markdown": [
       "$Bundesland\n",
       ":   1. 'NRW'\n",
       "2. 'Sachsen'\n",
       "3. 'Bayern'\n",
       "\n",
       "\n",
       "\n",
       "$Hauptstadt\n",
       ":   1. 'Duesseldorf'\n",
       "2. 'Dresden'\n",
       "3. 'Muenchen'\n",
       "\n",
       "\n",
       "\n",
       "$Platz\n",
       ":   1. 'sieben'\n",
       "2. 'zwoelf'\n",
       "3. 'drei'\n",
       "\n",
       "\n",
       "\n",
       "$Flaeche\n",
       ":   1. 34110\n",
       "2. 18420\n",
       "3. 70550\n",
       "\n",
       "\n",
       "\n",
       "$Einwohner\n",
       ":   1. 17.6\n",
       "2. 4\n",
       "3. 12\n",
       "4. 6\n",
       "\n",
       "\n",
       "\n",
       "\n",
       "\n"
      ],
      "text/plain": [
       "$Bundesland\n",
       "[1] \"NRW\"     \"Sachsen\" \"Bayern\" \n",
       "\n",
       "$Hauptstadt\n",
       "[1] \"Duesseldorf\" \"Dresden\"     \"Muenchen\"   \n",
       "\n",
       "$Platz\n",
       "[1] \"sieben\" \"zwoelf\" \"drei\"  \n",
       "\n",
       "$Flaeche\n",
       "[1] 34110 18420 70550\n",
       "\n",
       "$Einwohner\n",
       "[1] 17.6  4.0 12.0  6.0\n"
      ]
     },
     "metadata": {},
     "output_type": "display_data"
    }
   ],
   "source": [
    "## f)\n",
    "state.list <- append(state.list, list(Einwohner = c(17.6, 4.0, 12,6)))\n",
    "state.list"
   ]
  },
  {
   "cell_type": "code",
   "execution_count": null,
   "metadata": {
    "collapsed": false
   },
   "outputs": [],
   "source": [
    "## g)\n",
    "# Ein Dataframe"
   ]
  },
  {
   "cell_type": "code",
   "execution_count": 43,
   "metadata": {
    "collapsed": false
   },
   "outputs": [
    {
     "data": {
      "text/html": [
       "70550"
      ],
      "text/latex": [
       "70550"
      ],
      "text/markdown": [
       "70550"
      ],
      "text/plain": [
       "[1] 70550"
      ]
     },
     "metadata": {},
     "output_type": "display_data"
    },
    {
     "data": {
      "text/html": [
       "70550"
      ],
      "text/latex": [
       "70550"
      ],
      "text/markdown": [
       "70550"
      ],
      "text/plain": [
       "[1] 70550"
      ]
     },
     "metadata": {},
     "output_type": "display_data"
    },
    {
     "data": {
      "text/html": [
       "70550"
      ],
      "text/latex": [
       "70550"
      ],
      "text/markdown": [
       "70550"
      ],
      "text/plain": [
       "[1] 70550"
      ]
     },
     "metadata": {},
     "output_type": "display_data"
    }
   ],
   "source": [
    "# h)\n",
    "state.list$Flaeche[state.list$Bundesland == \"Bayern\"]\n",
    "state.list[[\"Flaeche\"]][state.list[[\"Bundesland\"]] == \"Bayern\"]\n",
    "state.list[[which(names(state.list) == \"Flaeche\")]][\n",
    "    which(state.list$Bundesland == \"Bayern\")]"
   ]
  }
 ],
 "metadata": {
  "kernelspec": {
   "display_name": "R",
   "language": "R",
   "name": "ir"
  },
  "language_info": {
   "codemirror_mode": "r",
   "file_extension": ".r",
   "mimetype": "text/x-r-source",
   "name": "R",
   "pygments_lexer": "r",
   "version": "3.3.1"
  }
 },
 "nbformat": 4,
 "nbformat_minor": 1
}
