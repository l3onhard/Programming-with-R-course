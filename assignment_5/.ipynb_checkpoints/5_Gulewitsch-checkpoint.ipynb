{
 "cells": [
  {
   "cell_type": "code",
   "execution_count": null,
   "metadata": {
    "collapsed": true
   },
   "outputs": [],
   "source": [
    "# Abgabe von Leonhard Gulewitsch\n",
    "\n",
    "# Aufgabe 12\n",
    "library(\"RODBC\")\n",
    "channel <- odbcConnect(\"mineur\", case=\"nochange\")\n",
    "sqlTables(channel, \"ForestCover\")\n",
    "\n",
    "## a)\n",
    "Pine.HorDistHydro <- sqlQuery(channel, \"select HorDistHydro \n",
    "                        from ForestCover where CoverType = 2\")\n",
    "mean(Pine.HorDistHydro$HorDistHydro)\n",
    "\n",
    "## b)\n",
    "KrummInNeota.Eleva <- sqlQuery(channel, \"select Elevation from ForestCover where \n",
    "                        CoverType = 7 and Wilderness2 = 1\")\n",
    "summary(KrummInNeota.Eleva)\n",
    "\n",
    "## c)\n",
    "nrow(Pine.HorDistHydro) + nrow(KrummInNeota.Eleva)\n",
    "\n",
    "close(channel)"
   ]
  },
  {
   "cell_type": "code",
   "execution_count": null,
   "metadata": {
    "collapsed": true
   },
   "outputs": [],
   "source": [
    "# Aufgabe 13\n",
    "load(\"//server01/lehre/ProgrammierenR/Daten/Liste.RData\")\n",
    "## a)\n",
    "liste$Platz <- as.factor(liste$Platz)\n",
    "levels(liste$Platz)\n",
    "\n",
    "## b)\n",
    "levels(liste$Platz)[liste$Platz \n",
    "                      %in% c(\"zwoelf\", \"dreizehn\")] <- \"zwoelfdreizehn\"\n",
    "\n",
    "## c)\n",
    "liste$Platz <- ordered(liste$Platz, \n",
    "                         levels = c(\"eins\", \"zwei\", \"drei\", \"vier\", \"fuenf\", \"sechs\", \"sieben\",\n",
    "                                    \"acht\", \"neun\", \"zehn\", \"elf\", \"zwoelfdreizehn\"))\n",
    "\n",
    "## e)\n",
    "liste$Einwohner <- as.numeric(liste$Einwohner)\n",
    "\n",
    "## d)\n",
    "liste$Platz <- as.numeric(liste$Platz)\n",
    "# R wandelt hier die Raenge des ordinalen Merkmals \"Platz\" in natuerliche Zahlen um.\n",
    "# \"drei\" = 3, ... , \"zwoelfdreizehn\" = 12\n",
    "# Der resultierende Vekort ist kein \"factor\" mehr."
   ]
  },
  {
   "cell_type": "code",
   "execution_count": null,
   "metadata": {
    "collapsed": true
   },
   "outputs": [],
   "source": [
    "# Aufgabe 14\n",
    "## a)\n",
    "herz <- read.table(\"//Server01/Lehre/ProgrammierenR/Daten/herz200.txt\",\n",
    "                  sep = \";\", dec = \".\", header = TRUE)\n",
    "\n",
    "## b)\n",
    "herz2 <- read.table(\"//Server01/Lehre/ProgrammierenR/Daten/herz200_2.csv\", \n",
    "           sep = \",\", dec = \".\", header = TRUE)\n",
    "identical(herz, herz2)\n",
    "\n",
    "## c)\n",
    "herz3 <- read.table(\"//Server01/Lehre/ProgrammierenR/Daten/herz200_3.csv\", \n",
    "                    sep = \";\", dec = \",\", header = TRUE)\n",
    "identical(herz, herz3)\n",
    "\n",
    "## d)\n",
    "?head\n",
    "head(herz)\n",
    "tail(herz)\n",
    "# Diese beiden Funktionen sind hilfreich, wenn man sich einen Ueberblick ueber die Merkmalsauspraegungen in\n",
    "# einem Dataframe verschaffen moechte. Vor allem bei grossen Dataframes ist es naemlich ungeeignet den\n",
    "# ganzen Dataframe auszugeben.\n",
    "\n",
    "## e)\n",
    "head(herz, n = -150)\n",
    "tail(herz, n = -150)\n",
    "# \"n = -150\" bewirkt in den Funktionen \"head()\" und \"tail()\" folgendes:\n",
    "# R gibt bei \"head(herz, n = -150)\" alle bis auf die letzten 150 Zeihlen des Dataframes \"herz\" aus.\n",
    "# Bei \"tail(herz, n = -150)\" gibt R alle bis auf die ersten 150 Zeihlen des Dataframes \"herz\" aus.\n",
    "\n",
    "## f)\n",
    "herz$BMI <- herz$Gewicht / herz$Groesse^2"
   ]
  }
 ],
 "metadata": {
  "anaconda-cloud": {},
  "kernelspec": {
   "display_name": "R",
   "language": "R",
   "name": "ir"
  },
  "language_info": {
   "codemirror_mode": "r",
   "file_extension": ".r",
   "mimetype": "text/x-r-source",
   "name": "R",
   "pygments_lexer": "r",
   "version": "3.3.1"
  },
  "nbpresent": {
   "slides": {},
   "themes": {}
  }
 },
 "nbformat": 4,
 "nbformat_minor": 1
}
