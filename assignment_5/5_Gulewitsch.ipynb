{
 "cells": [
  {
   "cell_type": "code",
   "execution_count": null,
   "metadata": {
    "collapsed": true,
    "nbpresent": {
     "id": "13eff35b-398a-472f-afd0-b111ccd0c976"
    }
   },
   "outputs": [],
   "source": [
    "# Abgabe von Leonhard Gulewitsch\n",
    "\n",
    "# Aufgabe 12\n",
    "library(\"RODBC\")\n",
    "channel <- odbcConnect(\"mineur\", case=\"nochange\")\n",
    "sqlTables(channel, \"ForestCover\")"
   ]
  },
  {
   "cell_type": "code",
   "execution_count": null,
   "metadata": {
    "collapsed": true,
    "nbpresent": {
     "id": "8b8570b9-0dd6-4cc4-a9a1-3ab8dca826e0"
    }
   },
   "outputs": [],
   "source": [
    "## a)\n",
    "Pine.HorDistHydro <- sqlQuery(channel, \"select HorDistHydro \n",
    "                        from ForestCover where CoverType = 2\")\n",
    "mean(Pine.HorDistHydro)"
   ]
  },
  {
   "cell_type": "code",
   "execution_count": null,
   "metadata": {
    "collapsed": true,
    "nbpresent": {
     "id": "a662fac0-684b-436c-bab5-950f46ade32b"
    }
   },
   "outputs": [],
   "source": [
    "## b)\n",
    "KrummInNeota.Eleva <- sqlQuery(channel, \"select ? from ForestCover where \n",
    "                        CoverType = 7 and ? = 'Neota Wilderness'\")\n",
    "summary(KrummInNeota.Elevation)"
   ]
  },
  {
   "cell_type": "code",
   "execution_count": null,
   "metadata": {
    "collapsed": true,
    "nbpresent": {
     "id": "3bcc9b7b-5a7d-48d7-87e2-46479536f0cf"
    }
   },
   "outputs": [],
   "source": [
    "## c)\n",
    "length(Pine.HorDistHydro) + length(KrummInNeota.Eleva)"
   ]
  },
  {
   "cell_type": "code",
   "execution_count": null,
   "metadata": {
    "collapsed": true,
    "nbpresent": {
     "id": "0f347eb2-5f9c-4d1d-ac56-01ca420e5395"
    }
   },
   "outputs": [],
   "source": [
    "close(channel)"
   ]
  },
  {
   "cell_type": "code",
   "execution_count": null,
   "metadata": {
    "collapsed": false,
    "nbpresent": {
     "id": "a5b349bd-25f1-4a57-b04b-d9540078b9a9"
    }
   },
   "outputs": [],
   "source": [
    "my_list <- list(Bundesland = c(\"Sachsen\", \"NRW\", \"Bayern\", \n",
    "                               \"Niedersachsen\"), \n",
    "                Hauptstadt = c(\"Dresden\", \"Duesseldorf\", \"Muenchen\",\n",
    "                              \"Hannover\"),\n",
    "                Platz = c(\"sieben\", \"zwoelf\", \"drei\"\n",
    "                         , \"dreizehn\"),\n",
    "                Flaeche = c(34110, 18420, 70550, \n",
    "                            35000))"
   ]
  },
  {
   "cell_type": "code",
   "execution_count": null,
   "metadata": {
    "collapsed": false,
    "nbpresent": {
     "id": "a422517b-adcd-4c29-8ebe-d760e8fe4298"
    }
   },
   "outputs": [],
   "source": [
    "# Aufgabe 13\n",
    "## a)\n",
    "my_list$Platz <- as.factor(my_list$Platz)\n",
    "levels(my_list$Platz)"
   ]
  },
  {
   "cell_type": "code",
   "execution_count": null,
   "metadata": {
    "collapsed": false,
    "nbpresent": {
     "id": "39ba7405-d098-4ffa-9734-98df06caedec"
    }
   },
   "outputs": [],
   "source": [
    "## b)\n",
    "levels(my_list$Platz)[my_list$Platz \n",
    "                      %in% c(\"zwoelf\", \"dreizehn\")] <- \"zwoelfdreizehn\""
   ]
  },
  {
   "cell_type": "code",
   "execution_count": null,
   "metadata": {
    "collapsed": false,
    "nbpresent": {
     "id": "4fd0559c-4b88-4cb4-ab41-f857b7d59c84"
    }
   },
   "outputs": [],
   "source": [
    "## c)\n",
    "my_list$Platz <- ordered(my_list$Platz, \n",
    "                         levels = c(\"drei\", \"sieben\", \"zwoelfdreizehn\"))"
   ]
  },
  {
   "cell_type": "code",
   "execution_count": null,
   "metadata": {
    "collapsed": true,
    "nbpresent": {
     "id": "b75314a1-6cb9-4095-b27b-d32b5853d07c"
    }
   },
   "outputs": [],
   "source": [
    "## e)\n",
    "my_list$Einwohner <- as.numeric(my_list$Einwohner)"
   ]
  },
  {
   "cell_type": "code",
   "execution_count": null,
   "metadata": {
    "collapsed": false,
    "nbpresent": {
     "id": "e90f5f34-abcb-4fa7-82cb-91e2d9c6ca9e"
    }
   },
   "outputs": [],
   "source": [
    "## d)\n",
    "my_list$Platz <- as.numeric(my_list$Platz)"
   ]
  },
  {
   "cell_type": "code",
   "execution_count": null,
   "metadata": {
    "collapsed": true
   },
   "outputs": [],
   "source": [
    "# Aufgabe 14\n",
    "## a)\n",
    "herz <- read.table(\"\\\\Server01\\Lehre\\ProgrammierenR\\Daten\\herz200.txt\",\n",
    "                  )"
   ]
  },
  {
   "cell_type": "code",
   "execution_count": null,
   "metadata": {
    "collapsed": true
   },
   "outputs": [],
   "source": [
    "## b)\n",
    "herz2 <- read.table(\"\\\\Server01\\Lehre\\ProgrammierenR\\Daten\\herz200_2.csv\", \n",
    "           sep = \",\")\n",
    "identical(herz, herz2)"
   ]
  },
  {
   "cell_type": "code",
   "execution_count": null,
   "metadata": {
    "collapsed": false
   },
   "outputs": [],
   "source": [
    "## c)\n",
    "herz3 <- read.table(\"\\\\Server01\\Lehre\\ProgrammierenR\\Daten\\herz200_3.csv\", \n",
    "           sep = \",\")\n",
    "identical(herz, herz3)"
   ]
  },
  {
   "cell_type": "code",
   "execution_count": null,
   "metadata": {
    "collapsed": true
   },
   "outputs": [],
   "source": [
    "## d)\n",
    "?head\n",
    "head(herz)\n",
    "tail(herz)"
   ]
  },
  {
   "cell_type": "code",
   "execution_count": null,
   "metadata": {
    "collapsed": true
   },
   "outputs": [],
   "source": [
    "## e)\n",
    "head(herz, n = -150)\n",
    "tail(herz, n = -150)"
   ]
  },
  {
   "cell_type": "code",
   "execution_count": null,
   "metadata": {
    "collapsed": false
   },
   "outputs": [],
   "source": [
    "## f)\n",
    "herz$BMI <- herz$gewicht / herz$groesse^2"
   ]
  }
 ],
 "metadata": {
  "anaconda-cloud": {},
  "kernelspec": {
   "display_name": "R",
   "language": "R",
   "name": "ir"
  },
  "language_info": {
   "codemirror_mode": "r",
   "file_extension": ".r",
   "mimetype": "text/x-r-source",
   "name": "R",
   "pygments_lexer": "r",
   "version": "3.3.1"
  },
  "nbpresent": {
   "slides": {},
   "themes": {}
  }
 },
 "nbformat": 4,
 "nbformat_minor": 1
}
