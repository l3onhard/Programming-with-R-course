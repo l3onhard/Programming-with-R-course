{
 "cells": [
  {
   "cell_type": "code",
   "execution_count": 1,
   "metadata": {
    "collapsed": true
   },
   "outputs": [],
   "source": [
    "# Abgabe von Leonhard Gulewtisch\n",
    "\n",
    "\n",
    "printVariable <- function(v){\n",
    "  cat(sprintf(\"%s = %f\\n\", \n",
    "              deparse(substitute(v)), v))\n",
    "}\n",
    "\n",
    "printDate <- function(v){\n",
    "  cat(sprintf(\"%s = \\\"%s CEST\\\"\\n\", \n",
    "              deparse(substitute(v)), as.character(v)))\n",
    "}\n",
    "\n",
    "printVector_chr <- function(v){\n",
    "  cat(sprintf(\"%s = (%s)\\n\", \n",
    "              deparse(substitute(v)), paste(shQuote(v, type=\"cmd\"), collapse=\", \")))\n",
    "}\n",
    "\n"
   ]
  },
  {
   "cell_type": "code",
   "execution_count": null,
   "metadata": {
    "collapsed": false
   },
   "outputs": [],
   "source": [
    "# Aufgabe 15\n",
    "\n",
    "library(\"RODBC\")\n",
    "channel <- odbcConnectExcel2007(\"C:/user/gulewitsch/Luft.xlsx\")\n",
    "sqlTables(channel)\n",
    "sqlColumns(channel, \"Datum\")$COLUMN_NAME\n",
    "sqlColumns(channel, \"Luft\")$COLUMN_NAME\n",
    "\n",
    "## a)\n",
    "\n",
    "df.air <- sqlQuery(channel, 'select * from \"Luft$\"')\n",
    "df.date <- sqlQuery(channel, 'select * from \"Datum$\"')\n",
    "str(df.date$Datum)\n",
    "df.date$Datum <- as.POSIXct(df.date$Datum, format = \"%B-%d %Y\")\n",
    "df.date$Monat <- as.numeric(format(df.date$Datum, \"%m\"))\n",
    "df.date$Tag <- as.numeric(format(df.date$Datum, \"%d\"))\n",
    "\n",
    "df.airquality <- if(nrow(df.air) == nrow(df.date)){\n",
    "  merge.data.frame(df.air, df.date,\n",
    "                   by = c(\"Monat\", \"Tag\"), \n",
    "                   sort = F)[, union(names(df.air), names(df.date))]\n",
    "}\n",
    "\n",
    "## b)\n",
    "\n",
    "all.equal(df.air, airquality, check.names = FALSE)\n",
    "# Abgesehen von den Spaltennamen sind alle Werte in \"df.air\" und \"airquality\"\n",
    "# gleich.\n",
    "\n",
    "all.equal(df.air, df.airquality[,1:6])\n",
    "\n",
    "## c)\n",
    "\n",
    "rm(\"df.air\", \"df.airquality\", \"df.date\")\n",
    "\n",
    "df.Wind_JuniJuly <- sqlQuery(channel, \"select Wind from \\\"Luft$\\\" \n",
    "                             where Monat = 6 or Monat = 7\")\n",
    "median.Wind_JuniJuly <- median(df.Wind_JuniJuly$Wind)\n",
    "\n",
    "df.Temp_JuniJuly <- sqlQuery(channel, \"select Temp from \\\"Luft$\\\" \n",
    "                             where Monat = 6 or Monat = 7\")\n",
    "median.Temp_JuniJuly <- median(df.Temp_JuniJuly$Temp)\n",
    "\n",
    "printVariable(median.Temp_JuniJuly)\n",
    "printVariable(median.Wind_JuniJuly)\n",
    "\n",
    "close(channel)"
   ]
  },
  {
   "cell_type": "code",
   "execution_count": 2,
   "metadata": {
    "collapsed": false
   },
   "outputs": [],
   "source": [
    "# Aufgabe 16\n",
    "library(openxlsx)"
   ]
  },
  {
   "cell_type": "code",
   "execution_count": 3,
   "metadata": {
    "collapsed": false
   },
   "outputs": [
    {
     "data": {
      "text/html": [
       "TRUE"
      ],
      "text/latex": [
       "TRUE"
      ],
      "text/markdown": [
       "TRUE"
      ],
      "text/plain": [
       "[1] TRUE"
      ]
     },
     "metadata": {},
     "output_type": "display_data"
    }
   ],
   "source": [
    "## a)\n",
    "\n",
    "# df.air2 <- read.xlsx(\"\\\\Server01\\lehre\\ProgrammierenR\\Daten\\Luft.xlsx\")\n",
    "df.air2 <- read.xlsx(\"Luft.xlsx\")\n",
    "all.equal(df.air2, airquality, check.names = FALSE)"
   ]
  },
  {
   "cell_type": "code",
   "execution_count": 4,
   "metadata": {
    "collapsed": false
   },
   "outputs": [
    {
     "data": {
      "text/html": [
       "<ol class=list-inline>\n",
       "\t<li>'Modes: numeric, list'</li>\n",
       "\t<li>'Lengths: 1, 6'</li>\n",
       "\t<li>'Attributes: &lt; Names: 1 string mismatch &gt;'</li>\n",
       "\t<li>'Attributes: &lt; Component “class”: Lengths (2, 1) differ (string compare on first 1) &gt;'</li>\n",
       "\t<li>'Attributes: &lt; Component “class”: 1 string mismatch &gt;'</li>\n",
       "\t<li>'Attributes: &lt; Component 2: target is externalptr, current is numeric &gt;'</li>\n",
       "\t<li>'target is file, current is data.frame'</li>\n",
       "</ol>\n"
      ],
      "text/latex": [
       "\\begin{enumerate*}\n",
       "\\item 'Modes: numeric, list'\n",
       "\\item 'Lengths: 1, 6'\n",
       "\\item 'Attributes: < Names: 1 string mismatch >'\n",
       "\\item 'Attributes: < Component “class”: Lengths (2, 1) differ (string compare on first 1) >'\n",
       "\\item 'Attributes: < Component “class”: 1 string mismatch >'\n",
       "\\item 'Attributes: < Component 2: target is externalptr, current is numeric >'\n",
       "\\item 'target is file, current is data.frame'\n",
       "\\end{enumerate*}\n"
      ],
      "text/markdown": [
       "1. 'Modes: numeric, list'\n",
       "2. 'Lengths: 1, 6'\n",
       "3. 'Attributes: &lt; Names: 1 string mismatch &gt;'\n",
       "4. 'Attributes: &lt; Component “class”: Lengths (2, 1) differ (string compare on first 1) &gt;'\n",
       "5. 'Attributes: &lt; Component “class”: 1 string mismatch &gt;'\n",
       "6. 'Attributes: &lt; Component 2: target is externalptr, current is numeric &gt;'\n",
       "7. 'target is file, current is data.frame'\n",
       "\n",
       "\n"
      ],
      "text/plain": [
       "[1] \"Modes: numeric, list\"                                                                \n",
       "[2] \"Lengths: 1, 6\"                                                                       \n",
       "[3] \"Attributes: < Names: 1 string mismatch >\"                                            \n",
       "[4] \"Attributes: < Component “class”: Lengths (2, 1) differ (string compare on first 1) >\"\n",
       "[5] \"Attributes: < Component “class”: 1 string mismatch >\"                                \n",
       "[6] \"Attributes: < Component 2: target is externalptr, current is numeric >\"              \n",
       "[7] \"target is file, current is data.frame\"                                               "
      ]
     },
     "metadata": {},
     "output_type": "display_data"
    }
   ],
   "source": [
    "## b)\n",
    "\n",
    "df.air3 <- file(\"clipboard\")\n",
    "all.equal(df.air3, airquality, check.names = FALSE)"
   ]
  },
  {
   "cell_type": "code",
   "execution_count": 5,
   "metadata": {
    "collapsed": true
   },
   "outputs": [],
   "source": [
    "# Aufgabe 17\n",
    "\n",
    "## a)\n",
    "\n",
    "bdayFisher <- c(\"1890-02-17\", \"17. Februar 1890\", \"17.02.1890\")\n",
    "date.bdayFisher <- c(as.Date(bdayFisher[1], \"%Y-%m-%d\"), as.Date(bdayFisher[2], \"%d. %B %Y\"), as.Date(bdayFisher[3], \"%d.%m.%Y\"))"
   ]
  },
  {
   "cell_type": "code",
   "execution_count": 6,
   "metadata": {
    "collapsed": false
   },
   "outputs": [
    {
     "name": "stdout",
     "output_type": "stream",
     "text": [
      "date.bdayFisher = (\"1890-02-17\", \"NA\", \"1890-02-17\")\n"
     ]
    }
   ],
   "source": [
    "printVector_chr(date.bdayFisher)"
   ]
  },
  {
   "cell_type": "code",
   "execution_count": 7,
   "metadata": {
    "collapsed": false
   },
   "outputs": [],
   "source": [
    "## b)\n",
    "\n",
    "date.ageFisher_inDays <- difftime(Sys.Date(), date.bdayFisher[1], units = \"days\")"
   ]
  },
  {
   "cell_type": "code",
   "execution_count": 8,
   "metadata": {
    "collapsed": false
   },
   "outputs": [
    {
     "name": "stdout",
     "output_type": "stream",
     "text": [
      "date.ageFisher_inDays[1] = 46314.000000\n"
     ]
    }
   ],
   "source": [
    "printVariable(date.ageFisher_inDays[1])"
   ]
  },
  {
   "cell_type": "code",
   "execution_count": 9,
   "metadata": {
    "collapsed": false
   },
   "outputs": [],
   "source": [
    "##  c)\n",
    "\n",
    "date.ageFisher_inYears <- as.numeric(date.ageFisher_inDays) / 365.25"
   ]
  },
  {
   "cell_type": "code",
   "execution_count": 10,
   "metadata": {
    "collapsed": false
   },
   "outputs": [
    {
     "name": "stdout",
     "output_type": "stream",
     "text": [
      "floor(date.ageFisher_inYears) = 126.000000\n"
     ]
    }
   ],
   "source": [
    "printVariable(floor(date.ageFisher_inYears))"
   ]
  },
  {
   "cell_type": "code",
   "execution_count": 11,
   "metadata": {
    "collapsed": false
   },
   "outputs": [],
   "source": [
    "## d)\n",
    "\n",
    "date.2016_09_30 <- strptime(\"30.09.2016, 12:00 Uhr\", \"%d.%m.%Y, %H:%M Uhr\")\n",
    "date.2016_11_30 <- strptime(\"30.11.2016, 12:00 Uhr\", \"%d.%m.%Y, %H:%M Uhr\")"
   ]
  },
  {
   "cell_type": "code",
   "execution_count": 12,
   "metadata": {
    "collapsed": false
   },
   "outputs": [
    {
     "name": "stdout",
     "output_type": "stream",
     "text": [
      "date.2016_09_30 = \"2016-09-30 12:00:00 CEST\"\n",
      "date.2016_11_30 = \"2016-11-30 12:00:00 CEST\"\n"
     ]
    }
   ],
   "source": [
    "printDate(date.2016_09_30)\n",
    "printDate(date.2016_11_30)"
   ]
  },
  {
   "cell_type": "code",
   "execution_count": 13,
   "metadata": {
    "collapsed": false
   },
   "outputs": [
    {
     "name": "stdout",
     "output_type": "stream",
     "text": [
      "timeDiff.30sep_30nov_inDays = 61.041667\n"
     ]
    }
   ],
   "source": [
    "## e)\n",
    "\n",
    "timeDiff.30sep_30nov_inDays <- difftime(date.2016_11_30, date.2016_09_30, units = \"days\")\n",
    "printVariable(timeDiff.30sep_30nov_inDays)\n"
   ]
  },
  {
   "cell_type": "code",
   "execution_count": 14,
   "metadata": {
    "collapsed": false
   },
   "outputs": [
    {
     "data": {
      "text/plain": [
       "Time difference of 0 secs"
      ]
     },
     "metadata": {},
     "output_type": "display_data"
    }
   ],
   "source": [
    "timeDiff.61days_and_1hour <- as.difftime(61, units = \"days\") + as.difftime(1, units = \"hours\")\n",
    "timeDiff.30sep_30nov_inSecs <- as.numeric(timeDiff.30sep_30nov_inDays, units = \"secs\")\n",
    "timeDiff.61days_and_1hour - timeDiff.30sep_30nov_inSecs\n",
    "\n",
    "# Zwischen den zweit Zweitpunkten sind etwa 61,04 Tage vergangen. Wie die vorrangegangene Berechnung verdeutlicht,\n",
    "# entspricht dieser Zeitraum genau 61 Tage und 1 Stunde. Die \"Extra\"-Stunde ergibt sich druch die Zeitumstellung \n",
    "# von Sommerzeit auf Winterzeit (d.h. plus eine Stunde), die am 30 Oktober stattgefunden hat."
   ]
  }
 ],
 "metadata": {
  "anaconda-cloud": {},
  "kernelspec": {
   "display_name": "R",
   "language": "R",
   "name": "ir"
  },
  "language_info": {
   "codemirror_mode": "r",
   "file_extension": ".r",
   "mimetype": "text/x-r-source",
   "name": "R",
   "pygments_lexer": "r",
   "version": "3.3.1"
  }
 },
 "nbformat": 4,
 "nbformat_minor": 1
}
