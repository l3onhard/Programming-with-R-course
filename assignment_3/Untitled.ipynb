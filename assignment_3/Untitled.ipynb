{
 "cells": [
  {
   "cell_type": "code",
   "execution_count": null,
   "metadata": {
    "collapsed": true
   },
   "outputs": [],
   "source": [
    "# Abgabe von Leonhard Gulewitsch\n",
    "\n",
    "load(\"//server01/lehre/ProgrammierenR/Data/AnmeldungOhneNA_WS1617.RData\")"
   ]
  },
  {
   "cell_type": "code",
   "execution_count": 12,
   "metadata": {
    "collapsed": false
   },
   "outputs": [
    {
     "data": {
      "text/html": [
       "1560"
      ],
      "text/latex": [
       "1560"
      ],
      "text/markdown": [
       "1560"
      ],
      "text/plain": [
       "[1] 1560"
      ]
     },
     "metadata": {},
     "output_type": "display_data"
    }
   ],
   "source": [
    "# Aufgabe 6\n",
    "regi_start <- as.POSIXct(\"2016-10-20 22:00:00\") # time at registration start\n",
    "lect_start <- as.POSIXct(\"2016-10-21 10:15:00\") # time at lecture start\n",
    "lect_end <- as.POSIXct(\"2016-10-21 11:15:00\") # time at lecture end\n",
    "sat_0 <- as.POSIXct(\"2016-10-22 00:00:00\") # saturday 0 AM\n",
    "sun_0 <- as.POSIXct(\"2016-10-23 00:00:00\") # sunday 0 AM\n",
    "mon_0 <- as.POSIXct(\"2016-10-24 00:00:00\") # monday 0 AM\n",
    "\n",
    "mins_since_regi_start <- function(time1, time2 = regi_start){\n",
    "    output <- as.numeric(difftime(time1, time2, units = \"mins\"))\n",
    "    return(output)\n",
    "}\n",
    "\n",
    "## a)\n"
   ]
  },
  {
   "cell_type": "code",
   "execution_count": 135,
   "metadata": {
    "collapsed": false
   },
   "outputs": [
    {
     "name": "stdout",
     "output_type": "stream",
     "text": [
      "a = (1, 1, 1, 2, 2, 2, 3, 3, 3)\n",
      "b = (3, 8, 13, 18, 23, 28)\n",
      "c = (12, 7, 12, 7, 12, 7)\n"
     ]
    }
   ],
   "source": [
    "# Aufgabe 7\n",
    "\n",
    "print_vector <- function(vector){\n",
    "    cat(sprintf(\"%s = (%s)\\n\", \n",
    "                as.character(deparse(substitute(vector))), \n",
    "                paste(as.character(vector), collapse=\", \")))\n",
    "}\n",
    "\n",
    "# a)\n",
    "# ?rep\n",
    "# ?seq\n",
    "a <- rep(seq(1, 3), each = 3)\n",
    "b <- seq(3, 28, by = 5)\n",
    "c <- rep(seq(12, 7, by = -5), times = 3)\n",
    "\n",
    "print_vector(a)\n",
    "print_vector(b)\n",
    "print_vector(c)"
   ]
  },
  {
   "cell_type": "code",
   "execution_count": 141,
   "metadata": {
    "collapsed": false
   },
   "outputs": [
    {
     "name": "stdout",
     "output_type": "stream",
     "text": [
      "d1 = (7, 8, 9, 7, 8, 9)\n",
      "d2 = (7, 8, 9, 7, 8, 9)\n",
      "d3 = (7, 8, 9, 7, 8, 9)\n"
     ]
    }
   ],
   "source": [
    "# b)\n",
    "d1 <- rep(seq(7, 9), times = 2)\n",
    "d2 <- rep(6, times = 6) + seq(1, 3)\n",
    "d3 <- rep(seq(3), times = 2) + 6\n",
    "\n",
    "print_vector(d1)\n",
    "print_vector(d2)\n",
    "print_vector(d3)"
   ]
  },
  {
   "cell_type": "code",
   "execution_count": 184,
   "metadata": {
    "collapsed": false
   },
   "outputs": [
    {
     "name": "stdout",
     "output_type": "stream",
     "text": [
      "x = (9, 10, 11, 12, 13, 14, 15, 16, 17, 18, 19, 20, 21, 22, 23, 24, 25, 4, 56)\n",
      "x = (9, 10, 11, 12, 13, 14, 4, 16, 17, 18, 19, 20, 21, 4, 23, 24, 25, 4, 56)\n",
      "x = (9, 10, -11, 12, -13, -14, 4, 16, -17, -18, 19, -20, 21, 4, -23, 24, 25, -4, 56)\n"
     ]
    }
   ],
   "source": [
    "# c)\n",
    "x <- c(seq(9, 25), 4, 56)\n",
    "\n",
    "print_vector(x)\n",
    "\n",
    "x[seq(7, length(x), by = 7)] <- 4\n",
    "\n",
    "print_vector(x)\n",
    "\n",
    "# d)\n",
    "i_of_every_3rd <- c(seq(3, length(x), by = 3)) \n",
    "i_of_every_5th <- c(seq(5, length(x), by = 5))\n",
    "i_of_every_3rd_and_5th <- union(i_of_every_3rd, i_of_every_5th)\n",
    "x[i_of_every_3rd_and_5th] <- -x[i_of_every_3rd_and_5th]\n",
    "\n",
    "print_vector(x)"
   ]
  },
  {
   "cell_type": "code",
   "execution_count": 185,
   "metadata": {
    "collapsed": false
   },
   "outputs": [
    {
     "name": "stderr",
     "output_type": "stream",
     "text": [
      "Warning message in y + z:\n",
      "“longer object length is not a multiple of shorter object length”"
     ]
    },
    {
     "data": {
      "text/html": [
       "<ol class=list-inline>\n",
       "\t<li>4</li>\n",
       "\t<li>6</li>\n",
       "\t<li>6</li>\n",
       "\t<li>8</li>\n",
       "\t<li>8</li>\n",
       "\t<li>10</li>\n",
       "\t<li>10</li>\n",
       "</ol>\n"
      ],
      "text/latex": [
       "\\begin{enumerate*}\n",
       "\\item 4\n",
       "\\item 6\n",
       "\\item 6\n",
       "\\item 8\n",
       "\\item 8\n",
       "\\item 10\n",
       "\\item 10\n",
       "\\end{enumerate*}\n"
      ],
      "text/markdown": [
       "1. 4\n",
       "2. 6\n",
       "3. 6\n",
       "4. 8\n",
       "5. 8\n",
       "6. 10\n",
       "7. 10\n",
       "\n",
       "\n"
      ],
      "text/plain": [
       "[1]  4  6  6  8  8 10 10"
      ]
     },
     "metadata": {},
     "output_type": "display_data"
    }
   ],
   "source": [
    "# e)\n",
    "y <- 0:6\n",
    "z <- c(4, 5)\n",
    "y + z \n",
    "# R performs a vector addition\n",
    "# R recycles the vector z because it contains fewer elements than y\n",
    "# R calculates: c(0, 1, 2, 3, 4, 5, 6) + c(4, 5, 4, 5, 4, 5, 4)\n",
    "# R also returns a warning because the number of elements in y \n",
    "# is not divisable by the number of elements in z"
   ]
  },
  {
   "cell_type": "code",
   "execution_count": 186,
   "metadata": {
    "collapsed": false
   },
   "outputs": [
    {
     "data": {
      "text/html": [
       "<ol class=list-inline>\n",
       "\t<li>21</li>\n",
       "\t<li>28</li>\n",
       "\t<li>21</li>\n",
       "\t<li>28</li>\n",
       "</ol>\n"
      ],
      "text/latex": [
       "\\begin{enumerate*}\n",
       "\\item 21\n",
       "\\item 28\n",
       "\\item 21\n",
       "\\item 28\n",
       "\\end{enumerate*}\n"
      ],
      "text/markdown": [
       "1. 21\n",
       "2. 28\n",
       "3. 21\n",
       "4. 28\n",
       "\n",
       "\n"
      ],
      "text/plain": [
       "[1] 21 28 21 28"
      ]
     },
     "metadata": {},
     "output_type": "display_data"
    }
   ],
   "source": [
    "# f)\n",
    "u <- c(3, 4, 3, 4)\n",
    "u * 7\n",
    "# R calculates: (3 * 7, 4 * 7, 3 * 7, 4 * 7) "
   ]
  },
  {
   "cell_type": "code",
   "execution_count": null,
   "metadata": {
    "collapsed": true
   },
   "outputs": [],
   "source": []
  }
 ],
 "metadata": {
  "anaconda-cloud": {},
  "kernelspec": {
   "display_name": "R",
   "language": "R",
   "name": "ir"
  },
  "language_info": {
   "codemirror_mode": "r",
   "file_extension": ".r",
   "mimetype": "text/x-r-source",
   "name": "R",
   "pygments_lexer": "r",
   "version": "3.3.1"
  }
 },
 "nbformat": 4,
 "nbformat_minor": 1
}
