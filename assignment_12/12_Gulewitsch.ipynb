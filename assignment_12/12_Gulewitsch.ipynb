{
 "cells": [
  {
   "cell_type": "code",
   "execution_count": 1,
   "metadata": {
    "collapsed": true
   },
   "outputs": [],
   "source": [
    "# Abgabe von Leonhard Gulewitsch"
   ]
  },
  {
   "cell_type": "code",
   "execution_count": 2,
   "metadata": {
    "collapsed": true
   },
   "outputs": [],
   "source": [
    "# Aufgabe 28 -----------------------------------------------"
   ]
  },
  {
   "cell_type": "code",
   "execution_count": 3,
   "metadata": {
    "collapsed": true
   },
   "outputs": [],
   "source": [
    "## a)"
   ]
  },
  {
   "cell_type": "code",
   "execution_count": 4,
   "metadata": {
    "collapsed": true
   },
   "outputs": [],
   "source": [
    "myvar1 <- function(x){\n",
    "    \n",
    "    x.na_omitted <- na.omit(x)\n",
    "    n <- length(x.na_omitted)\n",
    "    x.a_mean <- mean(x.na_omitted)\n",
    "    \n",
    "    vari_of.x.na_omitted <- 0\n",
    "    \n",
    "    for(x.i in x.na_omitted){\n",
    "        vari_of.x.i <- ((x.i - x.a_mean)^2) / n\n",
    "        vari_of.x.na_omitted <- vari_of.x.na_omitted + vari_of.x.i\n",
    "    }\n",
    "    \n",
    "    return(vari_of.x.na_omitted)\n",
    "}"
   ]
  },
  {
   "cell_type": "code",
   "execution_count": 5,
   "metadata": {
    "collapsed": false
   },
   "outputs": [],
   "source": [
    "myvar2 <- function(x){\n",
    "    \n",
    "    x.na_omitted <- na.omit(x)\n",
    "    n <- length(x.na_omitted)\n",
    "    x.a_mean <- mean(x.na_omitted)\n",
    "    \n",
    "    x.dist_to_mean <- (x.na_omitted - x.a_mean)^2\n",
    "    sum_of.x.dist_to_mean <- sum(x.dist_to_mean)\n",
    "    vari_of.x.na_omitted <- sum_of.x.dist_to_mean / n\n",
    "    \n",
    "    return(vari_of.x.na_omitted)\n",
    "}"
   ]
  },
  {
   "cell_type": "code",
   "execution_count": 6,
   "metadata": {
    "collapsed": false
   },
   "outputs": [],
   "source": [
    "## b)"
   ]
  },
  {
   "cell_type": "code",
   "execution_count": 7,
   "metadata": {
    "collapsed": true
   },
   "outputs": [],
   "source": [
    "X <- matrix(1:100, nrow = 10)"
   ]
  },
  {
   "cell_type": "code",
   "execution_count": 8,
   "metadata": {
    "collapsed": false
   },
   "outputs": [
    {
     "data": {
      "text/html": [
       "<ol class=list-inline>\n",
       "\t<li>825</li>\n",
       "\t<li>825</li>\n",
       "\t<li>825</li>\n",
       "\t<li>825</li>\n",
       "\t<li>825</li>\n",
       "\t<li>825</li>\n",
       "\t<li>825</li>\n",
       "\t<li>825</li>\n",
       "\t<li>825</li>\n",
       "\t<li>825</li>\n",
       "</ol>\n"
      ],
      "text/latex": [
       "\\begin{enumerate*}\n",
       "\\item 825\n",
       "\\item 825\n",
       "\\item 825\n",
       "\\item 825\n",
       "\\item 825\n",
       "\\item 825\n",
       "\\item 825\n",
       "\\item 825\n",
       "\\item 825\n",
       "\\item 825\n",
       "\\end{enumerate*}\n"
      ],
      "text/markdown": [
       "1. 825\n",
       "2. 825\n",
       "3. 825\n",
       "4. 825\n",
       "5. 825\n",
       "6. 825\n",
       "7. 825\n",
       "8. 825\n",
       "9. 825\n",
       "10. 825\n",
       "\n",
       "\n"
      ],
      "text/plain": [
       " [1] 825 825 825 825 825 825 825 825 825 825"
      ]
     },
     "metadata": {},
     "output_type": "display_data"
    },
    {
     "data": {
      "text/html": [
       "<ol class=list-inline>\n",
       "\t<li>8.25</li>\n",
       "\t<li>8.25</li>\n",
       "\t<li>8.25</li>\n",
       "\t<li>8.25</li>\n",
       "\t<li>8.25</li>\n",
       "\t<li>8.25</li>\n",
       "\t<li>8.25</li>\n",
       "\t<li>8.25</li>\n",
       "\t<li>8.25</li>\n",
       "\t<li>8.25</li>\n",
       "</ol>\n"
      ],
      "text/latex": [
       "\\begin{enumerate*}\n",
       "\\item 8.25\n",
       "\\item 8.25\n",
       "\\item 8.25\n",
       "\\item 8.25\n",
       "\\item 8.25\n",
       "\\item 8.25\n",
       "\\item 8.25\n",
       "\\item 8.25\n",
       "\\item 8.25\n",
       "\\item 8.25\n",
       "\\end{enumerate*}\n"
      ],
      "text/markdown": [
       "1. 8.25\n",
       "2. 8.25\n",
       "3. 8.25\n",
       "4. 8.25\n",
       "5. 8.25\n",
       "6. 8.25\n",
       "7. 8.25\n",
       "8. 8.25\n",
       "9. 8.25\n",
       "10. 8.25\n",
       "\n",
       "\n"
      ],
      "text/plain": [
       " [1] 8.25 8.25 8.25 8.25 8.25 8.25 8.25 8.25 8.25 8.25"
      ]
     },
     "metadata": {},
     "output_type": "display_data"
    }
   ],
   "source": [
    "apply(X, 1, myvar1) \n",
    "#: 825 825 825 825 825 825 825 825 825 825\n",
    "\n",
    "apply(X, 2, myvar1) \n",
    "#: 8.25 8.25 8.25 8.25 8.25 8.25 8.25 8.25 8.25 8.25"
   ]
  },
  {
   "cell_type": "code",
   "execution_count": 9,
   "metadata": {
    "collapsed": false
   },
   "outputs": [
    {
     "data": {
      "text/html": [
       "<ol class=list-inline>\n",
       "\t<li>825</li>\n",
       "\t<li>825</li>\n",
       "\t<li>825</li>\n",
       "\t<li>825</li>\n",
       "\t<li>825</li>\n",
       "\t<li>825</li>\n",
       "\t<li>825</li>\n",
       "\t<li>825</li>\n",
       "\t<li>825</li>\n",
       "\t<li>825</li>\n",
       "</ol>\n"
      ],
      "text/latex": [
       "\\begin{enumerate*}\n",
       "\\item 825\n",
       "\\item 825\n",
       "\\item 825\n",
       "\\item 825\n",
       "\\item 825\n",
       "\\item 825\n",
       "\\item 825\n",
       "\\item 825\n",
       "\\item 825\n",
       "\\item 825\n",
       "\\end{enumerate*}\n"
      ],
      "text/markdown": [
       "1. 825\n",
       "2. 825\n",
       "3. 825\n",
       "4. 825\n",
       "5. 825\n",
       "6. 825\n",
       "7. 825\n",
       "8. 825\n",
       "9. 825\n",
       "10. 825\n",
       "\n",
       "\n"
      ],
      "text/plain": [
       " [1] 825 825 825 825 825 825 825 825 825 825"
      ]
     },
     "metadata": {},
     "output_type": "display_data"
    },
    {
     "data": {
      "text/html": [
       "<ol class=list-inline>\n",
       "\t<li>8.25</li>\n",
       "\t<li>8.25</li>\n",
       "\t<li>8.25</li>\n",
       "\t<li>8.25</li>\n",
       "\t<li>8.25</li>\n",
       "\t<li>8.25</li>\n",
       "\t<li>8.25</li>\n",
       "\t<li>8.25</li>\n",
       "\t<li>8.25</li>\n",
       "\t<li>8.25</li>\n",
       "</ol>\n"
      ],
      "text/latex": [
       "\\begin{enumerate*}\n",
       "\\item 8.25\n",
       "\\item 8.25\n",
       "\\item 8.25\n",
       "\\item 8.25\n",
       "\\item 8.25\n",
       "\\item 8.25\n",
       "\\item 8.25\n",
       "\\item 8.25\n",
       "\\item 8.25\n",
       "\\item 8.25\n",
       "\\end{enumerate*}\n"
      ],
      "text/markdown": [
       "1. 8.25\n",
       "2. 8.25\n",
       "3. 8.25\n",
       "4. 8.25\n",
       "5. 8.25\n",
       "6. 8.25\n",
       "7. 8.25\n",
       "8. 8.25\n",
       "9. 8.25\n",
       "10. 8.25\n",
       "\n",
       "\n"
      ],
      "text/plain": [
       " [1] 8.25 8.25 8.25 8.25 8.25 8.25 8.25 8.25 8.25 8.25"
      ]
     },
     "metadata": {},
     "output_type": "display_data"
    }
   ],
   "source": [
    "apply(X, 1, myvar2)\n",
    "#: 825 825 825 825 825 825 825 825 825 825\n",
    "\n",
    "apply(X, 2, myvar2)\n",
    "#: 8.25 8.25 8.25 8.25 8.25 8.25 8.25 8.25 8.25 8.25"
   ]
  },
  {
   "cell_type": "code",
   "execution_count": 10,
   "metadata": {
    "collapsed": true
   },
   "outputs": [],
   "source": [
    "## c)"
   ]
  },
  {
   "cell_type": "code",
   "execution_count": 11,
   "metadata": {
    "collapsed": true
   },
   "outputs": [],
   "source": [
    "Y <- matrix(1:1000000, nrow = 1000)"
   ]
  },
  {
   "cell_type": "code",
   "execution_count": 12,
   "metadata": {
    "collapsed": false
   },
   "outputs": [
    {
     "data": {
      "text/plain": [
       "   user  system elapsed \n",
       "  1.370   0.008   1.379 "
      ]
     },
     "metadata": {},
     "output_type": "display_data"
    }
   ],
   "source": [
    "system.time(apply(Y, 1, myvar1))\n",
    "#:   user  system elapsed\n",
    "#:  1.324   0.004   1.329"
   ]
  },
  {
   "cell_type": "code",
   "execution_count": 13,
   "metadata": {
    "collapsed": false
   },
   "outputs": [
    {
     "data": {
      "text/plain": [
       "   user  system elapsed \n",
       "  1.329   0.002   1.332 "
      ]
     },
     "metadata": {},
     "output_type": "display_data"
    }
   ],
   "source": [
    "system.time(apply(Y, 2, myvar1))\n",
    "#:   user  system elapsed\n",
    "#:  1.330   0.003   1.335"
   ]
  },
  {
   "cell_type": "code",
   "execution_count": 14,
   "metadata": {
    "collapsed": false
   },
   "outputs": [
    {
     "data": {
      "text/plain": [
       "   user  system elapsed \n",
       "  0.073   0.000   0.074 "
      ]
     },
     "metadata": {},
     "output_type": "display_data"
    }
   ],
   "source": [
    "system.time(apply(Y, 1, myvar2))\n",
    "#:   user  system elapsed\n",
    "#:  0.082   0.001   0.082"
   ]
  },
  {
   "cell_type": "code",
   "execution_count": 15,
   "metadata": {
    "collapsed": false
   },
   "outputs": [
    {
     "data": {
      "text/plain": [
       "   user  system elapsed \n",
       "  0.069   0.004   0.073 "
      ]
     },
     "metadata": {},
     "output_type": "display_data"
    }
   ],
   "source": [
    "system.time(apply(Y, 2, myvar2))\n",
    "#:   user  system elapsed\n",
    "#:  0.081   0.000   0.081"
   ]
  },
  {
   "cell_type": "code",
   "execution_count": 16,
   "metadata": {
    "collapsed": true
   },
   "outputs": [],
   "source": [
    "# Here we can see an example for the general rule\n",
    "# that vetorized functions are computed faster than functions \n",
    "# that contain loops"
   ]
  },
  {
   "cell_type": "code",
   "execution_count": 19,
   "metadata": {
    "collapsed": true
   },
   "outputs": [],
   "source": [
    "# Augabe 29 -----------------------------------------------\n",
    "\n",
    "load(\"herz200.RData\")\n",
    "# load(\"//server01/lehre/ProgrammierenR/Daten/herz200.RData\")"
   ]
  },
  {
   "cell_type": "code",
   "execution_count": 18,
   "metadata": {
    "collapsed": true
   },
   "outputs": [],
   "source": [
    "## a)"
   ]
  },
  {
   "cell_type": "code",
   "execution_count": 82,
   "metadata": {
    "collapsed": false
   },
   "outputs": [],
   "source": [
    "df.numeric <- herz[sapply(herz, class) \n",
    "                          %in% c(\"integer\", \"numeric\") \n",
    "                          & names(herz) != \"Nr\"]"
   ]
  },
  {
   "cell_type": "code",
   "execution_count": 83,
   "metadata": {
    "collapsed": false
   },
   "outputs": [
    {
     "data": {
      "text/html": [
       "<dl>\n",
       "\t<dt>$Groesse</dt>\n",
       "\t\t<dd>171.142857142857</dd>\n",
       "\t<dt>$Gewicht</dt>\n",
       "\t\t<dd>80.8</dd>\n",
       "\t<dt>$HF</dt>\n",
       "\t\t<dd>75.6265060240964</dd>\n",
       "\t<dt>$RR_sys</dt>\n",
       "\t\t<dd>138.678571428571</dd>\n",
       "\t<dt>$Alter</dt>\n",
       "\t\t<dd>63.3</dd>\n",
       "\t<dt>$BMI</dt>\n",
       "\t\t<dd>27.5268354941648</dd>\n",
       "</dl>\n"
      ],
      "text/latex": [
       "\\begin{description}\n",
       "\\item[\\$Groesse] 171.142857142857\n",
       "\\item[\\$Gewicht] 80.8\n",
       "\\item[\\$HF] 75.6265060240964\n",
       "\\item[\\$RR\\_sys] 138.678571428571\n",
       "\\item[\\$Alter] 63.3\n",
       "\\item[\\$BMI] 27.5268354941648\n",
       "\\end{description}\n"
      ],
      "text/markdown": [
       "$Groesse\n",
       ":   171.142857142857\n",
       "$Gewicht\n",
       ":   80.8\n",
       "$HF\n",
       ":   75.6265060240964\n",
       "$RR_sys\n",
       ":   138.678571428571\n",
       "$Alter\n",
       ":   63.3\n",
       "$BMI\n",
       ":   27.5268354941648\n",
       "\n",
       "\n"
      ],
      "text/plain": [
       "$Groesse\n",
       "[1] 171.1429\n",
       "\n",
       "$Gewicht\n",
       "[1] 80.8\n",
       "\n",
       "$HF\n",
       "[1] 75.62651\n",
       "\n",
       "$RR_sys\n",
       "[1] 138.6786\n",
       "\n",
       "$Alter\n",
       "[1] 63.3\n",
       "\n",
       "$BMI\n",
       "[1] 27.52684\n"
      ]
     },
     "metadata": {},
     "output_type": "display_data"
    }
   ],
   "source": [
    "lapply(df.numeric, FUN = mean, na.rm = TRUE)\n",
    "#: $Groesse\n",
    "#: 171.142857142857\n",
    "#: $Gewicht\n",
    "#: 80.8\n",
    "#: $HF\n",
    "#: 75.6265060240964\n",
    "#: $RR_sys\n",
    "#: 138.678571428571\n",
    "#: $Alter\n",
    "#: 63.3\n",
    "#: $BMI\n",
    "#: 27.5268354941648"
   ]
  },
  {
   "cell_type": "code",
   "execution_count": 84,
   "metadata": {
    "collapsed": false
   },
   "outputs": [
    {
     "data": {
      "text/html": [
       "<dl class=dl-horizontal>\n",
       "\t<dt>Groesse</dt>\n",
       "\t\t<dd>171.142857142857</dd>\n",
       "\t<dt>Gewicht</dt>\n",
       "\t\t<dd>80.8</dd>\n",
       "\t<dt>HF</dt>\n",
       "\t\t<dd>75.6265060240964</dd>\n",
       "\t<dt>RR_sys</dt>\n",
       "\t\t<dd>138.678571428571</dd>\n",
       "\t<dt>Alter</dt>\n",
       "\t\t<dd>63.3</dd>\n",
       "\t<dt>BMI</dt>\n",
       "\t\t<dd>27.5268354941648</dd>\n",
       "</dl>\n"
      ],
      "text/latex": [
       "\\begin{description*}\n",
       "\\item[Groesse] 171.142857142857\n",
       "\\item[Gewicht] 80.8\n",
       "\\item[HF] 75.6265060240964\n",
       "\\item[RR\\textbackslash{}\\_sys] 138.678571428571\n",
       "\\item[Alter] 63.3\n",
       "\\item[BMI] 27.5268354941648\n",
       "\\end{description*}\n"
      ],
      "text/markdown": [
       "Groesse\n",
       ":   171.142857142857Gewicht\n",
       ":   80.8HF\n",
       ":   75.6265060240964RR_sys\n",
       ":   138.678571428571Alter\n",
       ":   63.3BMI\n",
       ":   27.5268354941648\n",
       "\n"
      ],
      "text/plain": [
       "  Groesse   Gewicht        HF    RR_sys     Alter       BMI \n",
       "171.14286  80.80000  75.62651 138.67857  63.30000  27.52684 "
      ]
     },
     "metadata": {},
     "output_type": "display_data"
    }
   ],
   "source": [
    "sapply(df.numeric, FUN = mean, na.rm = TRUE)\n",
    "#: Groesse\n",
    "#: 171.142857142857\n",
    "#: Gewicht\n",
    "#: 80.8\n",
    "#: HF\n",
    "#: 75.6265060240964\n",
    "#: RR_sys\n",
    "#: 138.678571428571\n",
    "#: Alter\n",
    "#: 63.3\n",
    "#: BMI\n",
    "#: 27.5268354941648"
   ]
  },
  {
   "cell_type": "code",
   "execution_count": 85,
   "metadata": {
    "collapsed": true
   },
   "outputs": [],
   "source": [
    "## b)"
   ]
  },
  {
   "cell_type": "code",
   "execution_count": 86,
   "metadata": {
    "collapsed": false
   },
   "outputs": [
    {
     "data": {
      "text/html": [
       "<dl class=dl-horizontal>\n",
       "\t<dt>m</dt>\n",
       "\t\t<dd>27.9387621288584</dd>\n",
       "\t<dt>w</dt>\n",
       "\t\t<dd>26.4162817010952</dd>\n",
       "</dl>\n"
      ],
      "text/markdown": [
       "m\n",
       ":   27.9387621288584w\n",
       ":   26.4162817010952\n",
       "\n"
      ],
      "text/plain": [
       "       m        w \n",
       "27.93876 26.41628 "
      ]
     },
     "metadata": {},
     "output_type": "display_data"
    }
   ],
   "source": [
    "tapply(herz$BMI, INDEX = herz$Geschlecht, FUN = mean, \n",
    "       na.rm = TRUE)\n",
    "#: m\n",
    "#: 27.9387621288584\n",
    "#: w\n",
    "#: 26.4162817010952"
   ]
  },
  {
   "cell_type": "code",
   "execution_count": 87,
   "metadata": {
    "collapsed": false
   },
   "outputs": [
    {
     "data": {
      "text/html": [
       "<dl class=dl-horizontal>\n",
       "\t<dt>ACS</dt>\n",
       "\t\t<dd>79.1679389312977</dd>\n",
       "\t<dt>av</dt>\n",
       "\t\t<dd>84.6</dd>\n",
       "\t<dt>chf</dt>\n",
       "\t\t<dd>83.8461538461538</dd>\n",
       "</dl>\n"
      ],
      "text/markdown": [
       "ACS\n",
       ":   79.1679389312977av\n",
       ":   84.6chf\n",
       ":   83.8461538461538\n",
       "\n"
      ],
      "text/plain": [
       "     ACS       av      chf \n",
       "79.16794 84.60000 83.84615 "
      ]
     },
     "metadata": {},
     "output_type": "display_data"
    }
   ],
   "source": [
    "tapply(herz$Gewicht, INDEX = herz$Diagnose, FUN = mean, \n",
    "       na.rm = TRUE)\n",
    "#: ACS\n",
    "#: 79.1679389312977\n",
    "#: av\n",
    "#: 84.6\n",
    "#: chf\n",
    "#: 83.8461538461538"
   ]
  },
  {
   "cell_type": "code",
   "execution_count": 88,
   "metadata": {
    "collapsed": true
   },
   "outputs": [],
   "source": [
    "## c)"
   ]
  },
  {
   "cell_type": "code",
   "execution_count": 112,
   "metadata": {
    "collapsed": false
   },
   "outputs": [
    {
     "name": "stdout",
     "output_type": "stream",
     "text": [
      "'data.frame':\t200 obs. of  9 variables:\n",
      " $ Diagnose  : Factor w/ 3 levels \"ACS\",\"av\",\"chf\": 1 2 1 1 3 3 1 3 1 1 ...\n",
      " $ Geschlecht: Factor w/ 2 levels \"m\",\"w\": 1 2 1 1 1 1 2 2 2 1 ...\n",
      " $ Groesse   : int  165 150 175 165 176 178 161 177 177 178 ...\n",
      " $ Gewicht   : int  85 70 75 70 92 88 68 101 74 80 ...\n",
      " $ HF        : int  NA NA 92 97 80 52 66 69 65 NA ...\n",
      " $ RR_sys    : int  NA NA 190 140 109 151 180 108 130 NA ...\n",
      " $ Rhythmus  : Factor w/ 3 levels \"SM\",\"SR\",\"VHF\": 2 2 2 2 3 2 2 2 2 2 ...\n",
      " $ Alter     : num  71 72 50 42 NA NA 72 52 74 60 ...\n",
      " $ BMI       : num  31.2 31.1 24.5 25.7 29.7 ...\n"
     ]
    }
   ],
   "source": [
    "df.numeric_factor <- herz[sapply(herz, class) \n",
    "                          %in% c(\"integer\", \"numeric\", \"factor\") \n",
    "                          & names(herz) != \"Nr\"]\n",
    "str(df.numeric_factor)"
   ]
  },
  {
   "cell_type": "code",
   "execution_count": 113,
   "metadata": {
    "collapsed": true
   },
   "outputs": [],
   "source": [
    "myplot <- function(x, ...){\n",
    "   if(is.factor(x)){\n",
    "     barplot(table(x), ...)\n",
    "   }\n",
    "   else{\n",
    "     hist(x, freq = FALSE, ...)\n",
    "   }\n",
    "}"
   ]
  },
  {
   "cell_type": "code",
   "execution_count": 137,
   "metadata": {
    "collapsed": false
   },
   "outputs": [
    {
     "data": {
      "image/png": "[encoded data removed]",
      "text/plain": [
       "Plot with title “Histogram of x”"
      ]
     },
     "metadata": {},
     "output_type": "display_data"
    }
   ],
   "source": [
    "par(mfrow = c(3, 3))\n",
    "invisible(lapply(df.numeric_factor, myplot))"
   ]
  }
 ],
 "metadata": {
  "kernelspec": {
   "display_name": "R",
   "language": "R",
   "name": "ir"
  },
  "language_info": {
   "codemirror_mode": "r",
   "file_extension": ".r",
   "mimetype": "text/x-r-source",
   "name": "R",
   "pygments_lexer": "r",
   "version": "3.3.1"
  }
 },
 "nbformat": 4,
 "nbformat_minor": 2
}
